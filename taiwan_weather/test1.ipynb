{
 "cells": [
  {
   "cell_type": "code",
   "execution_count": 36,
   "metadata": {},
   "outputs": [],
   "source": [
    "import requests\n",
    "#資料抓取並成為字典\n",
    "def download_data()->dict:\n",
    "    url = 'https://opendata.cwb.gov.tw/fileapi/v1/opendataapi/F-C0032-001?Authorization=rdec-key-123-45678-011121314&format=JSON'\n",
    "\n",
    "    respone = requests.get(url)\n",
    "    if respone.status_code == 200:\n",
    "        print(\"下載成功\")\n",
    "    return respone.json()\n",
    "\n"
   ]
  },
  {
   "cell_type": "code",
   "execution_count": 37,
   "metadata": {},
   "outputs": [
    {
     "name": "stdout",
     "output_type": "stream",
     "text": [
      "下載成功\n"
     ]
    }
   ],
   "source": [
    "#資料解析成CSV\n",
    "json_data = download_data()\n",
    "def jsonDict_csvList(json)->list[dict]:\n",
    "    '''\n",
    "     - 傳入json的資料結構\n",
    "     - 取出需要資料\n",
    "     - 組合成list[dict]\n",
    "    '''\n",
    "    location = json['cwbopendata']['dataset']['location']\n",
    "    weather_list = []\n",
    "    for item in location:\n",
    "        city_item = {}\n",
    "        city_item['城市'] = item['locationName']\n",
    "        city_item['啟始時間'] = item['weatherElement'][1]['time'][0]['startTime']\n",
    "        city_item['結束時間'] = item['weatherElement'][1]['time'][0]['endTime']\n",
    "        city_item['最高溫度'] = float(item['weatherElement'][1]['time'][0]['parameter']['parameterName'])\n",
    "        city_item['最低溫度'] = float(item['weatherElement'][2]['time'][0]['parameter']['parameterName'])\n",
    "        city_item['感覺'] = item['weatherElement'][3]['time'][0]['parameter']['parameterName']\n",
    "        city_item['城市'] = item['locationName']\n",
    "        weather_list.append(city_item)\n",
    "    return weather_list"
   ]
  },
  {
   "cell_type": "code",
   "execution_count": 38,
   "metadata": {},
   "outputs": [],
   "source": [
    "import csv\n",
    "def save_csv(data:list[dict],fileName)->None:\n",
    "    \"\"\"\n",
    "     - 將lsit[dict]儲存為\n",
    "     - 參數fileName要儲存的檔名\n",
    "    \"\"\"\n",
    "\n",
    "    with open(fileName,mode='w', encoding='utf-8',newline='') as f:\n",
    "        filenames = ['城市','啟始時間','結束時間','最高溫度','最低溫度','感覺']\n",
    "        writer = csv.DictWriter(f,fieldnames=filenames)\n",
    "        writer.writeheader()\n",
    "        writer.writerows(data)"
   ]
  },
  {
   "cell_type": "code",
   "execution_count": 39,
   "metadata": {},
   "outputs": [],
   "source": [
    "from datetime import datetime \n",
    "import pytz\n",
    "def get_csvName()->str:\n",
    "    '''\n",
    "     - 取得台灣時間year-month-day\n",
    "    '''\n",
    "    taiwan_timezone = pytz.timezone('Asia/Taipei')\n",
    "    current_time = datetime.now(taiwan_timezone)\n",
    "    fileName = f'今日天氣 {current_time.year}-{current_time.month}-{current_time.day}  {current_time.hour}:{current_time.minute}:{current_time.second}.csv'\n",
    "    return fileName"
   ]
  },
  {
   "cell_type": "code",
   "execution_count": 40,
   "metadata": {},
   "outputs": [
    {
     "data": {
      "text/plain": [
       "'今日天氣 2023-8-12  14:29:15.csv'"
      ]
     },
     "execution_count": 40,
     "metadata": {},
     "output_type": "execute_result"
    }
   ],
   "source": [
    "csvFileName = get_csvName()\n",
    "csvFileName"
   ]
  },
  {
   "cell_type": "code",
   "execution_count": 41,
   "metadata": {},
   "outputs": [
    {
     "data": {
      "text/plain": [
       "False"
      ]
     },
     "execution_count": 41,
     "metadata": {},
     "output_type": "execute_result"
    }
   ],
   "source": [
    "import os\n",
    "def check_file_exist()->bool:\n",
    "    csvFileName = get_csvName()\n",
    "    current_cwd = os.path.abspath(os.getcwd())\n",
    "    abs_file_path = os.path.join(current_cwd,'data',csvFileName)\n",
    "    if os.path.exists(abs_file_path):\n",
    "        return True\n",
    "    else:\n",
    "        return False\n",
    "check_file_exist()"
   ]
  },
  {
   "cell_type": "code",
   "execution_count": 42,
   "metadata": {},
   "outputs": [
    {
     "name": "stdout",
     "output_type": "stream",
     "text": [
      "不存在\n",
      "下載成功\n"
     ]
    }
   ],
   "source": [
    "#主程式\n",
    "if not check_file_exist():\n",
    "    print('不存在')\n",
    "    json_data = download_data()#下載資料\n",
    "    csv_list = jsonDict_csvList(json_data)#處理資料\n",
    "    is_save = save_csv(csv_list,csvFileName)#儲存資料\n",
    "    if is_save:\n",
    "        print('下載成功')\n"
   ]
  }
 ],
 "metadata": {
  "kernelspec": {
   "display_name": "Python 3",
   "language": "python",
   "name": "python3"
  },
  "language_info": {
   "codemirror_mode": {
    "name": "ipython",
    "version": 3
   },
   "file_extension": ".py",
   "mimetype": "text/x-python",
   "name": "python",
   "nbconvert_exporter": "python",
   "pygments_lexer": "ipython3",
   "version": "3.10.4"
  },
  "orig_nbformat": 4
 },
 "nbformat": 4,
 "nbformat_minor": 2
}
