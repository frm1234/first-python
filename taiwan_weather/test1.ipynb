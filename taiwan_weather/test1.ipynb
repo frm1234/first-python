{
 "cells": [
  {
   "cell_type": "code",
   "execution_count": 7,
   "metadata": {},
   "outputs": [],
   "source": [
    "import requests\n",
    "#資料抓取並成為字典\n",
    "def download_data()->dict:\n",
    "    url = 'https://opendata.cwb.gov.tw/fileapi/v1/opendataapi/F-C0032-001?Authorization=rdec-key-123-45678-011121314&format=JSON'\n",
    "\n",
    "    respone = requests.get(url)\n",
    "    if respone.status_code == 200:\n",
    "        print(\"下載成功\")\n",
    "    return respone.json()\n",
    "\n"
   ]
  },
  {
   "cell_type": "code",
   "execution_count": 8,
   "metadata": {},
   "outputs": [
    {
     "name": "stdout",
     "output_type": "stream",
     "text": [
      "下載成功\n"
     ]
    }
   ],
   "source": [
    "#資料解析成CSV\n",
    "json_data = download_data()\n",
    "def jsonDict_csvList(json)->list[dict]:\n",
    "    '''\n",
    "     - 傳入json的資料結構\n",
    "     - 取出需要資料\n",
    "     - 組合成list[dict]\n",
    "    '''\n",
    "    location = json['cwbopendata']['dataset']['location']\n",
    "    weather_list = []\n",
    "    for item in location:\n",
    "        city_item = {}\n",
    "        city_item['城市'] = item['locationName']\n",
    "        city_item['啟始時間'] = item['weatherElement'][1]['time'][0]['startTime']\n",
    "        city_item['結束時間'] = item['weatherElement'][1]['time'][0]['endTime']\n",
    "        city_item['最高溫度'] = float(item['weatherElement'][1]['time'][0]['parameter']['parameterName'])\n",
    "        city_item['最低溫度'] = float(item['weatherElement'][2]['time'][0]['parameter']['parameterName'])\n",
    "        city_item['感覺'] = item['weatherElement'][3]['time'][0]['parameter']['parameterName']\n",
    "        city_item['城市'] = item['locationName']\n",
    "        weather_list.append(city_item)\n",
    "    return weather_list"
   ]
  },
  {
   "cell_type": "code",
   "execution_count": 11,
   "metadata": {},
   "outputs": [],
   "source": [
    "import csv\n",
    "def save_csv(data:list[dict],fileName)->None:\n",
    "    \"\"\"\n",
    "     - 將lsit[dict]儲存為\n",
    "     - 參數fileName要儲存的檔名\n",
    "    \"\"\"\n",
    "\n",
    "    with open(fileName,mode='w', encoding='utf-8',newline='') as f:\n",
    "        filenames = ['城市','啟始時間','結束時間','最高溫度','最低溫度','感覺']\n",
    "        writer = csv.DictWriter(f,fieldnames=filenames)\n",
    "        writer.writeheader()\n",
    "        writer.writerows(data)"
   ]
  },
  {
   "cell_type": "code",
   "execution_count": 27,
   "metadata": {},
   "outputs": [
    {
     "name": "stdout",
     "output_type": "stream",
     "text": [
      "2023\n",
      "8\n",
      "12\n",
      "11\n",
      "39\n",
      "2023-8-12-11:39:53\n"
     ]
    }
   ],
   "source": [
    "from datetime import datetime \n",
    "import pytz\n",
    "taiwan_timezone = pytz.timezone('Asia/Taipei')\n",
    "current_time = datetime.now(taiwan_timezone)\n",
    "print(current_time.year)\n",
    "print(current_time.month)\n",
    "print(current_time.day)\n",
    "print(current_time.hour)\n",
    "print(current_time.minute)\n",
    "filename = f'{current_time.year}-{current_time.month}-{current_time.day}-{current_time.hour}:{current_time.minute}:{current_time.second}'\n",
    "print(filename)"
   ]
  },
  {
   "cell_type": "code",
   "execution_count": 12,
   "metadata": {},
   "outputs": [
    {
     "name": "stdout",
     "output_type": "stream",
     "text": [
      "下載成功\n"
     ]
    }
   ],
   "source": [
    "#主程式\n",
    "json_data = download_data()#下載資料\n",
    "csv_list = jsonDict_csvList(json_data)#處理資料\n",
    "save_csv(csv_list,\"今天天氣\")#儲存資料"
   ]
  }
 ],
 "metadata": {
  "kernelspec": {
   "display_name": "Python 3",
   "language": "python",
   "name": "python3"
  },
  "language_info": {
   "codemirror_mode": {
    "name": "ipython",
    "version": 3
   },
   "file_extension": ".py",
   "mimetype": "text/x-python",
   "name": "python",
   "nbconvert_exporter": "python",
   "pygments_lexer": "ipython3",
   "version": "3.10.4"
  },
  "orig_nbformat": 4
 },
 "nbformat": 4,
 "nbformat_minor": 2
}
