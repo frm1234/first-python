{
 "cells": [
  {
   "cell_type": "code",
   "execution_count": 1,
   "metadata": {},
   "outputs": [
    {
     "name": "stdout",
     "output_type": "stream",
     "text": [
      "hello world\n"
     ]
    }
   ],
   "source": [
    "print('hello world')"
   ]
  },
  {
   "cell_type": "code",
   "execution_count": 49,
   "metadata": {},
   "outputs": [
    {
     "name": "stdout",
     "output_type": "stream",
     "text": [
      "70\n",
      "60\n",
      "50\n",
      "70\n"
     ]
    },
    {
     "data": {
      "text/plain": [
       "70"
      ]
     },
     "execution_count": 49,
     "metadata": {},
     "output_type": "execute_result"
    }
   ],
   "source": [
    "import copy\n",
    "a= 50\n",
    "b = 60\n",
    "c = copy.deepcopy(a)\n",
    "a = 10 + b\n",
    "d = a \n",
    "\n",
    "print(a)\n",
    "print(b)\n",
    "print(c)\n",
    "print(d)\n",
    "\n",
    "\n",
    "\n"
   ]
  },
  {
   "cell_type": "code",
   "execution_count": 76,
   "metadata": {},
   "outputs": [
    {
     "data": {
      "text/plain": [
       "5.878"
      ]
     },
     "execution_count": 76,
     "metadata": {},
     "output_type": "execute_result"
    }
   ],
   "source": [
    "import numpy as nu\n",
    "\n",
    "nu.round(5.8778,3)\n",
    "\n"
   ]
  },
  {
   "cell_type": "code",
   "execution_count": 3,
   "metadata": {},
   "outputs": [
    {
     "name": "stdout",
     "output_type": "stream",
     "text": [
      "6--b--c##"
     ]
    }
   ],
   "source": [
    "a = 6\n",
    "print(a,\"b\",'c',sep = '--',end = \"##\")"
   ]
  },
  {
   "cell_type": "code",
   "execution_count": 17,
   "metadata": {},
   "outputs": [
    {
     "name": "stdout",
     "output_type": "stream",
     "text": [
      "三角函數角度為90.0\n"
     ]
    }
   ],
   "source": [
    "import math\n",
    "import numpy as nu \n",
    "n = float(input('輸入斜邊'))\n",
    "m = float(input('輸入對邊'))\n",
    "radion = math.asin(m/n)  # sin(內角)=對邊/斜邊，這邊算sin值\n",
    "degree = nu.round(math.degrees(radion))\n",
    "print(f'三角函數角度為{degree}')\n"
   ]
  },
  {
   "cell_type": "code",
   "execution_count": 26,
   "metadata": {},
   "outputs": [
    {
     "name": "stdout",
     "output_type": "stream",
     "text": [
      "90.0\n"
     ]
    }
   ],
   "source": [
    "9 <= 6\n",
    "print(degree)"
   ]
  },
  {
   "cell_type": "code",
   "execution_count": 10,
   "metadata": {},
   "outputs": [
    {
     "name": "stdout",
     "output_type": "stream",
     "text": [
      "分數錯誤\n"
     ]
    }
   ],
   "source": [
    "\n",
    "\n",
    "score = int(input('請輸入分數(300上限)'))\n",
    "add   = str(input('請輸入加分(y,n)'))\n",
    "\n",
    "if score >=300:\n",
    "    print('分數錯誤')\n",
    "elif add == 'y':\n",
    "    score = score *1.05\n",
    "    if score >= 300:\n",
    "        score = 300\n",
    "        print(f'學生分數是:{score}')\n"
   ]
  },
  {
   "cell_type": "code",
   "execution_count": 4,
   "metadata": {},
   "outputs": [
    {
     "name": "stdout",
     "output_type": "stream",
     "text": [
      ">完美<\n"
     ]
    }
   ],
   "source": [
    "\n",
    "chinese = int(input('請輸入分數：'))\n",
    "\n",
    "if chinese <60:\n",
    "    print('不及格')\n",
    "elif chinese < 80:\n",
    "    print('尚可')\n",
    "elif chinese <100:\n",
    "    print('優')\n",
    "else :\n",
    "    print('>完美<')\n"
   ]
  }
 ],
 "metadata": {
  "kernelspec": {
   "display_name": "Python 3",
   "language": "python",
   "name": "python3"
  },
  "language_info": {
   "codemirror_mode": {
    "name": "ipython",
    "version": 3
   },
   "file_extension": ".py",
   "mimetype": "text/x-python",
   "name": "python",
   "nbconvert_exporter": "python",
   "pygments_lexer": "ipython3",
   "version": "3.10.4"
  },
  "orig_nbformat": 4
 },
 "nbformat": 4,
 "nbformat_minor": 2
}
