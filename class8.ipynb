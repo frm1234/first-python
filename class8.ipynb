{
 "cells": [
  {
   "cell_type": "code",
   "execution_count": null,
   "metadata": {},
   "outputs": [],
   "source": [
    "#pandas\n",
    "#Series()\n",
    "#DataFrame()\n",
    "import pandas as pd\n",
    "\n",
    "weather = pd.read_csv('目前天氣.csv')\n",
    "weather"
   ]
  },
  {
   "cell_type": "code",
   "execution_count": 7,
   "metadata": {},
   "outputs": [
    {
     "name": "stdout",
     "output_type": "stream",
     "text": [
      "<class 'pandas.core.frame.DataFrame'>\n",
      "RangeIndex: 22 entries, 0 to 21\n",
      "Data columns (total 6 columns):\n",
      " #   Column  Non-Null Count  Dtype  \n",
      "---  ------  --------------  -----  \n",
      " 0   城市      22 non-null     object \n",
      " 1   啟始時間    22 non-null     object \n",
      " 2   結束時間    22 non-null     object \n",
      " 3   最高溫度    22 non-null     float64\n",
      " 4   最低溫度    22 non-null     float64\n",
      " 5   感覺      22 non-null     object \n",
      "dtypes: float64(2), object(4)\n",
      "memory usage: 1.2+ KB\n"
     ]
    }
   ],
   "source": [
    "weather.info()"
   ]
  },
  {
   "cell_type": "code",
   "execution_count": 10,
   "metadata": {},
   "outputs": [
    {
     "data": {
      "text/plain": [
       "0    2023-08-05 12:00:00+08:00\n",
       "1    2023-08-05 12:00:00+08:00\n",
       "2    2023-08-05 12:00:00+08:00\n",
       "3    2023-08-05 12:00:00+08:00\n",
       "4    2023-08-05 12:00:00+08:00\n",
       "5    2023-08-05 12:00:00+08:00\n",
       "6    2023-08-05 12:00:00+08:00\n",
       "7    2023-08-05 12:00:00+08:00\n",
       "8    2023-08-05 12:00:00+08:00\n",
       "9    2023-08-05 12:00:00+08:00\n",
       "10   2023-08-05 12:00:00+08:00\n",
       "11   2023-08-05 12:00:00+08:00\n",
       "12   2023-08-05 12:00:00+08:00\n",
       "13   2023-08-05 12:00:00+08:00\n",
       "14   2023-08-05 12:00:00+08:00\n",
       "15   2023-08-05 12:00:00+08:00\n",
       "16   2023-08-05 12:00:00+08:00\n",
       "17   2023-08-05 12:00:00+08:00\n",
       "18   2023-08-05 12:00:00+08:00\n",
       "19   2023-08-05 12:00:00+08:00\n",
       "20   2023-08-05 12:00:00+08:00\n",
       "21   2023-08-05 12:00:00+08:00\n",
       "Name: 啟始時間, dtype: datetime64[ns, UTC+08:00]"
      ]
     },
     "execution_count": 10,
     "metadata": {},
     "output_type": "execute_result"
    }
   ],
   "source": [
    "pd.to_datetime(weather['啟始時間'])"
   ]
  }
 ],
 "metadata": {
  "kernelspec": {
   "display_name": "Python 3",
   "language": "python",
   "name": "python3"
  },
  "language_info": {
   "codemirror_mode": {
    "name": "ipython",
    "version": 3
   },
   "file_extension": ".py",
   "mimetype": "text/x-python",
   "name": "python",
   "nbconvert_exporter": "python",
   "pygments_lexer": "ipython3",
   "version": "3.10.4"
  },
  "orig_nbformat": 4
 },
 "nbformat": 4,
 "nbformat_minor": 2
}
