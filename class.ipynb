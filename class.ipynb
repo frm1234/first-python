{
 "cells": [
  {
   "cell_type": "code",
   "execution_count": 1,
   "metadata": {},
   "outputs": [
    {
     "name": "stdout",
     "output_type": "stream",
     "text": [
      "hello world\n"
     ]
    }
   ],
   "source": [
    "print('hello world')"
   ]
  },
  {
   "cell_type": "code",
   "execution_count": 49,
   "metadata": {},
   "outputs": [
    {
     "name": "stdout",
     "output_type": "stream",
     "text": [
      "70\n",
      "60\n",
      "50\n",
      "70\n"
     ]
    },
    {
     "data": {
      "text/plain": [
       "70"
      ]
     },
     "execution_count": 49,
     "metadata": {},
     "output_type": "execute_result"
    }
   ],
   "source": [
    "import copy\n",
    "a= 50\n",
    "b = 60\n",
    "c = copy.deepcopy(a)\n",
    "a = 10 + b\n",
    "d = a \n",
    "\n",
    "print(a)\n",
    "print(b)\n",
    "print(c)\n",
    "print(d)\n",
    "\n",
    "\n",
    "\n"
   ]
  },
  {
   "cell_type": "code",
   "execution_count": 1,
   "metadata": {},
   "outputs": [
    {
     "data": {
      "text/plain": [
       "5.878"
      ]
     },
     "execution_count": 1,
     "metadata": {},
     "output_type": "execute_result"
    }
   ],
   "source": [
    "import numpy as nu\n",
    "\n",
    "nu.round(5.8778,3)\n",
    "\n"
   ]
  },
  {
   "cell_type": "code",
   "execution_count": 3,
   "metadata": {},
   "outputs": [
    {
     "name": "stdout",
     "output_type": "stream",
     "text": [
      "6--b--c##"
     ]
    }
   ],
   "source": [
    "a = 6\n",
    "print(a,\"b\",'c',sep = '--',end = \"##\")"
   ]
  },
  {
   "cell_type": "code",
   "execution_count": 17,
   "metadata": {},
   "outputs": [
    {
     "name": "stdout",
     "output_type": "stream",
     "text": [
      "三角函數角度為90.0\n"
     ]
    }
   ],
   "source": [
    "import math\n",
    "import numpy as nu \n",
    "n = float(input('輸入斜邊'))\n",
    "m = float(input('輸入對邊'))\n",
    "radion = math.asin(m/n)  # sin(內角)=對邊/斜邊，這邊算sin值\n",
    "degree = nu.round(math.degrees(radion))\n",
    "print(f'三角函數角度為{degree}')\n"
   ]
  },
  {
   "cell_type": "code",
   "execution_count": 26,
   "metadata": {},
   "outputs": [
    {
     "name": "stdout",
     "output_type": "stream",
     "text": [
      "90.0\n"
     ]
    }
   ],
   "source": [
    "9 <= 6\n",
    "print(degree)"
   ]
  },
  {
   "cell_type": "code",
   "execution_count": 10,
   "metadata": {},
   "outputs": [
    {
     "name": "stdout",
     "output_type": "stream",
     "text": [
      "分數錯誤\n"
     ]
    }
   ],
   "source": [
    "\n",
    "\n",
    "score = int(input('請輸入分數(300上限)'))\n",
    "add   = str(input('請輸入加分(y,n)'))\n",
    "\n",
    "if score >=300:\n",
    "    print('分數錯誤')\n",
    "elif add == 'y':\n",
    "    score = score *1.05\n",
    "    if score >= 300:\n",
    "        score = 300\n",
    "        print(f'學生分數是:{score}')\n"
   ]
  },
  {
   "cell_type": "code",
   "execution_count": 4,
   "metadata": {},
   "outputs": [
    {
     "name": "stdout",
     "output_type": "stream",
     "text": [
      ">完美<\n"
     ]
    }
   ],
   "source": [
    "\n",
    "chinese = int(input('請輸入分數：'))\n",
    "\n",
    "if chinese <60:\n",
    "    print('不及格')\n",
    "elif chinese < 80:\n",
    "    print('尚可')\n",
    "elif chinese <100:\n",
    "    print('優')\n",
    "else :\n",
    "    print('>完美<')\n"
   ]
  },
  {
   "cell_type": "code",
   "execution_count": 15,
   "metadata": {},
   "outputs": [
    {
     "name": "stdout",
     "output_type": "stream",
     "text": [
      "格式錯誤\n"
     ]
    }
   ],
   "source": [
    "\n",
    "score = input('請輸入分數(0~100的整數):')\n",
    "\n",
    "if type(score) != int:\n",
    "    print('格式錯誤')\n",
    "else:\n",
    "    if score < 0:\n",
    "        print('超出範圍(過小)')\n",
    "    elif score < 59:\n",
    "        print('丁')\n",
    "    elif score < 69:\n",
    "        print('丙')\n",
    "    elif score < 79:\n",
    "        print('乙')\n",
    "    elif score < 89:\n",
    "        print('甲')\n",
    "    elif score <= 100:\n",
    "        print('優')\n",
    "    else :\n",
    "        print('超出範圍(過大)')"
   ]
  },
  {
   "cell_type": "code",
   "execution_count": 18,
   "metadata": {},
   "outputs": [
    {
     "name": "stdout",
     "output_type": "stream",
     "text": [
      "分數100\n"
     ]
    }
   ],
   "source": [
    "\n",
    "a = 100\n",
    "if not a == 100:\n",
    "    print('不分數為100')\n",
    "else:\n",
    "    print('分數100')"
   ]
  },
  {
   "cell_type": "code",
   "execution_count": 24,
   "metadata": {},
   "outputs": [
    {
     "name": "stdout",
     "output_type": "stream",
     "text": [
      "Flopsy\n",
      "Mopsy\n",
      "Cottontail\n",
      "Peter\n"
     ]
    }
   ],
   "source": [
    "rabbits = ['Flopsy', 'Mopsy', 'Cottontail', 'Peter']\n",
    "for i in rabbits:\n",
    "    print(i)"
   ]
  },
  {
   "cell_type": "code",
   "execution_count": 29,
   "metadata": {},
   "outputs": [
    {
     "name": "stdout",
     "output_type": "stream",
     "text": [
      "500\n"
     ]
    }
   ],
   "source": [
    "chinese = 199\n",
    "english = 100\n",
    "\n",
    "if chinese ==100 and english ==100:\n",
    "    print('1000')\n",
    "elif chinese == 100 or english == 100:\n",
    "    print(\"500\")\n",
    "else :\n",
    "    print('0')\n"
   ]
  },
  {
   "cell_type": "code",
   "execution_count": 3,
   "metadata": {},
   "outputs": [
    {
     "name": "stdout",
     "output_type": "stream",
     "text": [
      "D\n",
      "Asd\n",
      "Sd\n",
      "Gg\n",
      "Aae\n",
      "As\n",
      "Sde\n",
      "Dd\n",
      "程式結束\n"
     ]
    }
   ],
   "source": [
    "while(True):\n",
    "    stuff = input(\"請輸入小寫英文字[按q會離開]:\")\n",
    "    if stuff == 'q':\n",
    "        break\n",
    "    print(stuff.capitalize())\n",
    "print(\"程式結束\")"
   ]
  },
  {
   "cell_type": "code",
   "execution_count": 7,
   "metadata": {},
   "outputs": [
    {
     "name": "stdout",
     "output_type": "stream",
     "text": [
      "10,20,30,40,50,60,70,80,90,"
     ]
    }
   ],
   "source": [
    "for i in range(10,100,10):\n",
    "    print(i,end=\",\")"
   ]
  },
  {
   "cell_type": "code",
   "execution_count": 14,
   "metadata": {},
   "outputs": [
    {
     "name": "stdout",
     "output_type": "stream",
     "text": [
      "1\n",
      "3\n",
      "6\n",
      "10\n",
      "15\n",
      "21\n",
      "28\n",
      "36\n",
      "45\n",
      "55\n",
      "66\n",
      "78\n",
      "91\n",
      "105\n",
      "120\n",
      "136\n",
      "153\n",
      "171\n",
      "190\n",
      "210\n",
      "231\n",
      "253\n",
      "276\n",
      "300\n",
      "325\n",
      "351\n",
      "378\n",
      "406\n",
      "435\n",
      "465\n",
      "496\n",
      "528\n",
      "561\n",
      "595\n",
      "630\n",
      "666\n",
      "703\n",
      "741\n",
      "780\n",
      "820\n",
      "861\n",
      "903\n",
      "946\n",
      "990\n",
      "1035\n",
      "1081\n",
      "1128\n",
      "1176\n",
      "1225\n",
      "1275\n",
      "1326\n",
      "1378\n",
      "1431\n",
      "1485\n",
      "1540\n",
      "1596\n",
      "1653\n",
      "1711\n",
      "1770\n",
      "1830\n",
      "1891\n",
      "1953\n",
      "2016\n",
      "2080\n",
      "2145\n",
      "2211\n",
      "2278\n",
      "2346\n",
      "2415\n",
      "2485\n",
      "2556\n",
      "2628\n",
      "2701\n",
      "2775\n",
      "2850\n",
      "2926\n",
      "3003\n",
      "3081\n",
      "3160\n",
      "3240\n",
      "3321\n",
      "3403\n",
      "3486\n",
      "3570\n",
      "3655\n",
      "3741\n",
      "3828\n",
      "3916\n",
      "4005\n",
      "4095\n",
      "4186\n",
      "4278\n",
      "4371\n",
      "4465\n",
      "4560\n",
      "4656\n",
      "4753\n",
      "4851\n",
      "4950\n",
      "5050\n",
      "加總結果\"5050\"\n"
     ]
    }
   ],
   "source": [
    "result = 0 \n",
    "for i in range(1,101):\n",
    "    result += i \n",
    "    print(result)\n",
    "print (f'加總結果\"{result}\"')"
   ]
  },
  {
   "cell_type": "code",
   "execution_count": 4,
   "metadata": {},
   "outputs": [
    {
     "name": "stdout",
     "output_type": "stream",
     "text": [
      "0\n",
      "1\n",
      "2\n",
      "3\n",
      "4\n",
      "5\n",
      "6\n",
      "7\n",
      "8\n",
      "9\n"
     ]
    }
   ],
   "source": [
    "for i in range(10):\n",
    "    print(i)"
   ]
  },
  {
   "cell_type": "code",
   "execution_count": 13,
   "metadata": {},
   "outputs": [
    {
     "name": "stdout",
     "output_type": "stream",
     "text": [
      "\n",
      "i=0\n",
      "j=0j=1j=2j=3j=4j=5j=6j=7j=8j=9\n",
      "i=1\n",
      "j=0j=1j=2j=3j=4j=5j=6j=7j=8j=9\n",
      "i=2\n",
      "j=0j=1j=2j=3j=4j=5j=6j=7j=8j=9\n",
      "i=3\n",
      "j=0j=1j=2j=3j=4j=5j=6j=7j=8j=9\n",
      "i=4\n",
      "j=0j=1j=2j=3j=4j=5j=6j=7j=8j=9\n",
      "i=5\n",
      "j=0j=1j=2j=3j=4j=5j=6j=7j=8j=9\n",
      "i=6\n",
      "j=0j=1j=2j=3j=4j=5j=6j=7j=8j=9\n",
      "i=7\n",
      "j=0j=1j=2j=3j=4j=5j=6j=7j=8j=9\n",
      "i=8\n",
      "j=0j=1j=2j=3j=4j=5j=6j=7j=8j=9\n",
      "i=9\n",
      "j=0j=1j=2j=3j=4j=5j=6j=7j=8j=9"
     ]
    }
   ],
   "source": [
    "for i in range(10):\n",
    "    print(f'\\ni={i}')\n",
    "    for j in range(10):\n",
    "        print(f'j={j}',end = \"\")\n",
    "#    print('\\n===========')"
   ]
  },
  {
   "cell_type": "code",
   "execution_count": 23,
   "metadata": {},
   "outputs": [
    {
     "name": "stdout",
     "output_type": "stream",
     "text": [
      "1*1=1 2*1=2 3*1=3 4*1=4 5*1=5 6*1=6 7*1=7 8*1=8 9*1=9 \n",
      "\n",
      "1*2=2 2*2=4 3*2=6 4*2=8 5*2=10 6*2=12 7*2=14 8*2=16 9*2=18 \n",
      "\n",
      "1*3=3 2*3=6 3*3=9 4*3=12 5*3=15 6*3=18 7*3=21 8*3=24 9*3=27 \n",
      "\n",
      "1*4=4 2*4=8 3*4=12 4*4=16 5*4=20 6*4=24 7*4=28 8*4=32 9*4=36 \n",
      "\n",
      "1*5=5 2*5=10 3*5=15 4*5=20 5*5=25 6*5=30 7*5=35 8*5=40 9*5=45 \n",
      "\n",
      "1*6=6 2*6=12 3*6=18 4*6=24 5*6=30 6*6=36 7*6=42 8*6=48 9*6=54 \n",
      "\n",
      "1*7=7 2*7=14 3*7=21 4*7=28 5*7=35 6*7=42 7*7=49 8*7=56 9*7=63 \n",
      "\n",
      "1*8=8 2*8=16 3*8=24 4*8=32 5*8=40 6*8=48 7*8=56 8*8=64 9*8=72 \n",
      "\n",
      "1*9=9 2*9=18 3*9=27 4*9=36 5*9=45 6*9=54 7*9=63 8*9=72 9*9=81 \n",
      "\n"
     ]
    }
   ],
   "source": [
    "for i in range(1,10):\n",
    "#    print(f'\\ni={i}')\n",
    "    for j in range(1,10):\n",
    "        print(f'{j}*{i}={i*j}',end = \" \")\n",
    "    print('\\n')"
   ]
  },
  {
   "cell_type": "code",
   "execution_count": 34,
   "metadata": {},
   "outputs": [
    {
     "name": "stdout",
     "output_type": "stream",
     "text": [
      "總供需要花:4個月，已經存了36000\n",
      "[9000, 18000, 27000, 36000]\n"
     ]
    }
   ],
   "source": [
    "deposit = 0\n",
    "l = []\n",
    "while deposit < 30000:\n",
    "    vlaue = int(input('請輸入這個月的存款='))\n",
    "    deposit +=vlaue\n",
    "    l.append(deposit)\n",
    "print(f'總供需要花:{len(l)}個月，已經存了{deposit}')\n",
    "print (l)"
   ]
  },
  {
   "cell_type": "code",
   "execution_count": 8,
   "metadata": {},
   "outputs": [
    {
     "name": "stdout",
     "output_type": "stream",
     "text": [
      "所有數值加總為:0\n"
     ]
    }
   ],
   "source": [
    "sum = 0\n",
    "num = 0\n",
    "while True :\n",
    "    num += 1\n",
    "    value = int(input(f'請輸第{num}個數值='))\n",
    "    if value < 0:\n",
    "        break\n",
    "    elif value % 2 == 1:\n",
    "        continue\n",
    "    else:\n",
    "        sum += value\n",
    "print(f'所有數值加總為:{sum}')\n",
    "\n"
   ]
  },
  {
   "cell_type": "code",
   "execution_count": 41,
   "metadata": {},
   "outputs": [
    {
     "data": {
      "text/plain": [
       "3"
      ]
     },
     "execution_count": 41,
     "metadata": {},
     "output_type": "execute_result"
    }
   ],
   "source": [
    "import random\n",
    "random.randrange(1)\n",
    "random.randint(2,10)"
   ]
  },
  {
   "cell_type": "code",
   "execution_count": 39,
   "metadata": {},
   "outputs": [
    {
     "name": "stdout",
     "output_type": "stream",
     "text": [
      "可以\n",
      "-4\n"
     ]
    }
   ],
   "source": [
    "import random\n",
    "\n",
    "value = random.randint(-10,10)\n",
    "if value < 5 :\n",
    "    print('可以')\n",
    "    print(value)\n",
    "else:\n",
    "    print('不可')\n",
    "    print(value)"
   ]
  },
  {
   "cell_type": "code",
   "execution_count": 61,
   "metadata": {},
   "outputs": [
    {
     "name": "stdout",
     "output_type": "stream",
     "text": [
      "2499\n"
     ]
    }
   ],
   "source": [
    "def run(a:int,b:int):\n",
    "    return int(a*b/2)\n",
    "\n",
    "jojo = 99\n",
    "jojo1 = 50.5\n",
    "print(run(jojo,jojo1))\n",
    "\n"
   ]
  },
  {
   "cell_type": "code",
   "execution_count": 6,
   "metadata": {},
   "outputs": [
    {
     "name": "stdout",
     "output_type": "stream",
     "text": [
      "(404, 'erron')\n",
      "[112, 333, 55]\n"
     ]
    }
   ],
   "source": [
    "apple = (404, 'erron')\n",
    "orange = [112,333]\n",
    "# apple.apppend(55)\n",
    "orange.append(55)\n",
    "print(apple)\n",
    "print(orange)\n"
   ]
  },
  {
   "cell_type": "code",
   "execution_count": 10,
   "metadata": {},
   "outputs": [
    {
     "name": "stdout",
     "output_type": "stream",
     "text": [
      "Is ugle\n",
      "is beautiful\n"
     ]
    }
   ],
   "source": [
    "def egg():\n",
    "    return ('Is ugle','is beautiful')\n",
    "(code,message) = egg()\n",
    "print(code)\n",
    "print(message)"
   ]
  },
  {
   "cell_type": "code",
   "execution_count": 19,
   "metadata": {},
   "outputs": [
    {
     "name": "stdout",
     "output_type": "stream",
     "text": [
      "cc: (11, 22, 33, 44, 55)\n",
      "aa: [11, 22, 33, 44, 55]\n",
      "<class 'tuple'>\n",
      "<class 'list'>\n"
     ]
    }
   ],
   "source": [
    "cc = (11,22,33,44,55)\n",
    "aa = list(cc)\n",
    "print('cc:',cc)\n",
    "print('aa:',aa)\n",
    "print(type(cc))\n",
    "print(type(aa))"
   ]
  },
  {
   "cell_type": "code",
   "execution_count": 20,
   "metadata": {},
   "outputs": [
    {
     "name": "stdout",
     "output_type": "stream",
     "text": [
      "aa: [99, 11, 22, 33, 44, 55]\n"
     ]
    }
   ],
   "source": [
    "aa.insert(0,99)\n",
    "print('aa:',aa)"
   ]
  },
  {
   "cell_type": "code",
   "execution_count": 31,
   "metadata": {},
   "outputs": [
    {
     "name": "stdout",
     "output_type": "stream",
     "text": [
      "['h', 'e', 'l', 'l', 'o', ' ', 'w', 'o', 'r', 'l', 'd']\n",
      "['h', 'e', 'l', 'l', 'o']\n",
      "['w', 'o', 'r', 'l']\n",
      "['h', 'e', 'l', 'l', 'o']\n",
      "['w', 'o', 'r', 'l', 'd']\n"
     ]
    }
   ],
   "source": [
    "world = list('hello world')\n",
    "print(world)\n",
    "print(world[0:5])\n",
    "print(world[-5:-1])\n",
    "print(world[:5])\n",
    "print(world[-5:])\n",
    "\n"
   ]
  },
  {
   "cell_type": "code",
   "execution_count": 34,
   "metadata": {},
   "outputs": [
    {
     "name": "stdout",
     "output_type": "stream",
     "text": [
      "['hello world']\n",
      "['h', 'e', 'l', 'l', 'o', ' ', 'w', 'o', 'r', 'l', 'd']\n"
     ]
    }
   ],
   "source": [
    "zz = ['hello world']\n",
    "print(zz)\n",
    "yy = list('hello world')\n",
    "print(yy)\n"
   ]
  },
  {
   "cell_type": "code",
   "execution_count": 43,
   "metadata": {},
   "outputs": [
    {
     "name": "stdout",
     "output_type": "stream",
     "text": [
      "[['jojo', 'pig', 'dog'], ['甭', '需要', '試試']]\n",
      "['jojo', 'pig', 'dog']\n",
      "pig\n",
      "試試\n"
     ]
    }
   ],
   "source": [
    "na = ['jojo','pig','dog']\n",
    "bb = ['甭','需要','試試']\n",
    "cc = [na,bb]\n",
    "print(cc)\n",
    "print(cc[0])\n",
    "print(cc[0][1])\n",
    "print(cc[1][2])\n"
   ]
  },
  {
   "cell_type": "code",
   "execution_count": 53,
   "metadata": {},
   "outputs": [
    {
     "data": {
      "text/plain": [
       "[95, 79, 94, 92, 67]"
      ]
     },
     "execution_count": 53,
     "metadata": {},
     "output_type": "execute_result"
    }
   ],
   "source": [
    "import random\n",
    "\n",
    "stu1 = list()\n",
    "for i in range(5):\n",
    "    stu1.append(random.randint(50,100))\n",
    "stu1"
   ]
  },
  {
   "cell_type": "code",
   "execution_count": 61,
   "metadata": {},
   "outputs": [
    {
     "data": {
      "text/plain": [
       "[[85, 74, 56, 95, 100],\n",
       " [85, 50, 85, 100, 52],\n",
       " [62, 85, 67, 92, 58],\n",
       " [60, 91, 85, 77, 51],\n",
       " [86, 88, 67, 78, 93],\n",
       " [72, 71, 86, 60, 75],\n",
       " [82, 57, 56, 85, 53],\n",
       " [61, 55, 76, 97, 99],\n",
       " [75, 73, 82, 92, 83],\n",
       " [50, 84, 76, 52, 94],\n",
       " [69, 96, 67, 87, 73],\n",
       " [85, 81, 98, 60, 88],\n",
       " [63, 79, 78, 67, 96],\n",
       " [51, 67, 66, 98, 67],\n",
       " [93, 98, 75, 67, 63],\n",
       " [95, 74, 92, 62, 84],\n",
       " [78, 82, 85, 97, 53],\n",
       " [96, 61, 91, 86, 62],\n",
       " [57, 70, 90, 92, 54],\n",
       " [66, 87, 63, 76, 63],\n",
       " [65, 86, 93, 94, 76],\n",
       " [88, 59, 99, 81, 83],\n",
       " [95, 64, 85, 88, 85],\n",
       " [55, 70, 83, 58, 81],\n",
       " [53, 76, 87, 82, 95],\n",
       " [99, 91, 62, 67, 59],\n",
       " [89, 86, 80, 77, 99],\n",
       " [93, 99, 90, 98, 76],\n",
       " [51, 100, 64, 78, 69],\n",
       " [72, 83, 60, 90, 82],\n",
       " [84, 84, 73, 100, 91],\n",
       " [78, 63, 83, 83, 93],\n",
       " [95, 87, 58, 78, 52],\n",
       " [84, 93, 96, 70, 83],\n",
       " [53, 91, 67, 50, 96],\n",
       " [61, 68, 96, 75, 75],\n",
       " [73, 57, 93, 73, 58],\n",
       " [84, 95, 94, 93, 89],\n",
       " [63, 54, 60, 67, 56],\n",
       " [56, 59, 58, 75, 51],\n",
       " [59, 92, 63, 61, 56],\n",
       " [88, 60, 88, 73, 73],\n",
       " [76, 51, 84, 58, 91],\n",
       " [83, 90, 56, 70, 70],\n",
       " [79, 73, 99, 92, 73],\n",
       " [69, 85, 57, 81, 66],\n",
       " [59, 59, 84, 86, 74],\n",
       " [78, 52, 81, 55, 54],\n",
       " [73, 85, 76, 95, 91],\n",
       " [62, 99, 86, 60, 69]]"
      ]
     },
     "execution_count": 61,
     "metadata": {},
     "output_type": "execute_result"
    }
   ],
   "source": [
    "students = []\n",
    "for _ in range(50):\n",
    "    stu = list()\n",
    "    for _ in range(5):\n",
    "        stu.append(random.randint(50,100))\n",
    "    students.append(stu)\n",
    "students\n"
   ]
  },
  {
   "cell_type": "code",
   "execution_count": 3,
   "metadata": {},
   "outputs": [],
   "source": [
    "text = '''python與中文\n",
    "1. 我們來試試看中文儲存能力。\n",
    "2. 許這個字會有編碼衝突風險。\n",
    "3. 犇這個字必須是utf8編碼才有。'''\n",
    "\n",
    "file = open('hello.txt',mode='w')\n",
    "print(text,file = file)\n",
    "file.close()"
   ]
  },
  {
   "cell_type": "code",
   "execution_count": 4,
   "metadata": {},
   "outputs": [],
   "source": [
    "file = open('hello1.txt',mode = 'w',encoding='utf-8')\n",
    "file.write('這是第一行\\n')\n",
    "file.write('這是第二行\\n')\n",
    "file.writelines('''這是第三行\n",
    "這是第四行\n",
    "這是第五行''')\n",
    "file.close()\n"
   ]
  },
  {
   "cell_type": "code",
   "execution_count": 8,
   "metadata": {},
   "outputs": [
    {
     "name": "stdout",
     "output_type": "stream",
     "text": [
      "這是第一行\n",
      "這是第二行\n",
      "這是第三行\n",
      "這是第四行\n",
      "這是第五行\n"
     ]
    }
   ],
   "source": [
    "file = open('hello1.txt',mode = 'r',encoding='utf-8')\n",
    "all_text = file.read()\n",
    "print(all_text)\n"
   ]
  },
  {
   "cell_type": "code",
   "execution_count": 13,
   "metadata": {},
   "outputs": [
    {
     "data": {
      "text/plain": [
       "[[71, 68, 58, 93, 78],\n",
       " [81, 77, 52, 60, 60],\n",
       " [77, 92, 51, 73, 54],\n",
       " [69, 84, 60, 64, 100],\n",
       " [85, 88, 58, 93, 74],\n",
       " [70, 74, 90, 55, 60],\n",
       " [81, 66, 64, 89, 94],\n",
       " [85, 82, 81, 91, 63],\n",
       " [80, 54, 58, 87, 89],\n",
       " [87, 74, 92, 76, 100],\n",
       " [89, 63, 97, 90, 69],\n",
       " [51, 61, 58, 95, 97],\n",
       " [52, 64, 88, 65, 77],\n",
       " [84, 100, 74, 70, 56],\n",
       " [82, 86, 65, 74, 56],\n",
       " [51, 100, 88, 98, 91],\n",
       " [50, 51, 99, 55, 54],\n",
       " [96, 64, 82, 55, 64],\n",
       " [90, 88, 95, 64, 97],\n",
       " [100, 72, 61, 84, 78],\n",
       " [76, 95, 92, 54, 51],\n",
       " [68, 58, 59, 60, 72],\n",
       " [76, 86, 75, 84, 91],\n",
       " [63, 93, 69, 71, 51],\n",
       " [95, 72, 91, 54, 83],\n",
       " [77, 55, 81, 64, 89],\n",
       " [94, 95, 67, 86, 88],\n",
       " [88, 56, 78, 54, 90],\n",
       " [91, 68, 85, 59, 51],\n",
       " [94, 73, 71, 99, 60],\n",
       " [54, 55, 70, 86, 99],\n",
       " [91, 93, 94, 97, 65],\n",
       " [80, 77, 55, 74, 87],\n",
       " [51, 89, 52, 73, 94],\n",
       " [50, 88, 95, 51, 69],\n",
       " [61, 51, 87, 55, 65],\n",
       " [55, 92, 98, 63, 67],\n",
       " [94, 69, 99, 95, 88],\n",
       " [83, 61, 99, 61, 51],\n",
       " [52, 91, 64, 53, 88],\n",
       " [55, 66, 83, 74, 87],\n",
       " [51, 100, 58, 88, 52],\n",
       " [93, 73, 54, 52, 90],\n",
       " [89, 63, 88, 99, 56],\n",
       " [88, 54, 87, 59, 57],\n",
       " [72, 74, 73, 50, 77],\n",
       " [85, 92, 52, 68, 76],\n",
       " [66, 62, 52, 91, 55],\n",
       " [67, 69, 53, 95, 73],\n",
       " [79, 50, 99, 82, 86]]"
      ]
     },
     "execution_count": 13,
     "metadata": {},
     "output_type": "execute_result"
    }
   ],
   "source": [
    "import random\n",
    "students = []\n",
    "for _ in range(50):\n",
    "    stu = list()\n",
    "    for _ in range(5):\n",
    "        stu.append(random.randint(50,100))\n",
    "    students.append(stu)\n",
    "students\n"
   ]
  },
  {
   "cell_type": "code",
   "execution_count": 16,
   "metadata": {},
   "outputs": [],
   "source": [
    "import csv\n",
    "csvfile = open('students.csv',newline='',mode='w',encoding='utf-8')\n",
    "csva = csv.writer(csvfile)\n",
    "csva.writerow(['國文','英文','數學','地理','天文'])\n",
    "csva.writerows(students)\n",
    "csvfile.close()"
   ]
  },
  {
   "cell_type": "code",
   "execution_count": 21,
   "metadata": {},
   "outputs": [
    {
     "name": "stdout",
     "output_type": "stream",
     "text": [
      "['雙溪區', '土地', '柑腳段柑腳小段98-1地號', '34', '', '山坡地保育區', '丙種建築用地', '1110107', '土地1建物0車位0', '', '', '其他', '', '', '', '0', '0', '0', '0', '有', '無', '102000', '3000', '', '0', '0', '親友、員工、共有人或其他特殊關係間之交易；', 'RPRNMLOKJHHGFFF97EA', '0', '0', '0', '無']\n",
      "['雙溪區', '土地', '柑腳段外柑腳小段49-2地號', '4347', '', '山坡地保育區', '農牧用地', '1101207', '土地1建物0車位0', '', '', '其他', '', '', '', '0', '0', '0', '0', '有', '無', '7510000', '1728', '', '0', '0', '', 'RPPNMLPJJHHGFFF77EA', '0', '0', '0', '無']\n",
      "['雙溪區', '土地', '柑腳段柑腳小段98-4地號', '664.75', '', '山坡地保育區', '農牧用地', '1101115', '土地2建物0車位0', '', '', '其他', '', '', '', '0', '0', '0', '0', '有', '無', '2500000', '3761', '', '0', '0', '交易價格含地上未辦保存登記建物。未登記建物；', 'RPRNMLPJJHHGFFF97EA', '0', '0', '0', '無']\n",
      "['雙溪區', '土地', '柑腳段外柑腳小段304地號', '433.33', '', '山坡地保育區', '丙種建築用地', '1110426', '土地1建物0車位0', '', '', '其他', '', '', '', '0', '0', '0', '0', '有', '無', '2151000', '4964', '', '0', '0', '地清或未辦繼承標售；', 'RPRNMLQLMHHGFFF58EA', '0', '0', '0', '無']\n",
      "['雙溪區', '土地', '柑腳段中坑小段9地號', '223', '', '山坡地保育區', '農牧用地', '1110322', '土地1建物0車位0', '', '', '其他', '', '', '', '0', '0', '0', '0', '有', '無', '50000', '224', '', '0', '0', '', 'RPSNMLPKMHHGFFF48EA', '0', '0', '0', '無']\n",
      "['雙溪區', '土地', '柑腳段中坑小段3-1地號', '170', '', '山坡地保育區', '丙種建築用地', '1110322', '土地1建物0車位0', '', '', '其他', '', '', '', '0', '0', '0', '0', '有', '無', '261000', '1535', '', '0', '0', '地清或未辦繼承標售；', 'RPQNMLTLMHHGFFF78EA', '0', '0', '0', '無']\n",
      "['雙溪區', '土地', '柑腳段外柑腳小段23地號', '2962.5', '', '山坡地保育區', '農牧用地', '1110701', '土地3建物0車位0', '', '', '其他', '', '', '', '0', '0', '0', '0', '有', '無', '2680000', '905', '', '0', '0', '', 'RPPNMLMLPHHGFFF28EA', '0', '0', '0', '無']\n",
      "['雙溪區', '土地', '柑腳段柑腳小段351地號', '76.5', '', '鄉村區', '乙種建築用地', '1111019', '土地1建物0車位0', '', '', '其他', '', '', '', '0', '0', '0', '0', '有', '無', '300000', '3922', '', '0', '0', '親友、員工、共有人或其他特殊關係間之交易；未登記建物；', 'RPRNMLSJJIHGFFF28DA', '0', '0', '0', '無']\n",
      "['雙溪區', '土地', '柑腳段外柑腳小段24-1地號', '2076.25', '', '山坡地保育區', '農牧用地', '1110912', '土地4建物0車位0', '', '', '其他', '', '', '', '0', '0', '0', '0', '有', '無', '2850000', '1373', '', '0', '0', '', 'RPRNMLKLRHHGFFF48EA', '0', '0', '0', '無']\n"
     ]
    }
   ],
   "source": [
    "import csv\n",
    "csv_file = open('111年-雙溪區.csv',mode='r',encoding='utf-8')\n",
    "csv_reader = csv.reader(csv_file)\n",
    "\n",
    "data_all = list(csv_reader)\n",
    "for i in data_all:\n",
    "    if '柑腳段' in i[2]:\n",
    "        print(i)\n"
   ]
  },
  {
   "cell_type": "code",
   "execution_count": 32,
   "metadata": {},
   "outputs": [
    {
     "name": "stdout",
     "output_type": "stream",
     "text": [
      "['sitename', 'county', 'aqi', 'pollutant', 'status', 'so2', 'co', 'o3', 'o3_8hr', 'pm10', 'pm2.5', 'no2', 'nox', 'no', 'wind_speed', 'wind_direc', 'publishtime', 'co_8hr', 'pm2.5_avg', 'pm10_avg', 'so2_avg', 'longitude', 'latitude', 'siteid']\n",
      "['桃園', '桃園市', '61', '臭氧八小時', '普通', '2.6', '0.22', '67.7', '58.4', '34', '9', '8.6', '9.6', '1', '2.2', '326', '2023/07/15 15:00:00', '0.2', '15.5', '33', '1', '121.30500531', '24.9947107', '17']\n",
      "['平鎮', '桃園市', '54', '細懸浮微粒', '普通', '1.7', '0.28', '66', '52.3', '36', '16', '8.4', '9.8', '1.4', '2.4', '26', '2023/07/15 15:00:00', '0.2', '16.8', '34', '1', '121.203986', '24.952786', '20']\n",
      "['龍潭', '桃園市', '53', '細懸浮微粒', '普通', '0.6', '0.27', '68', '55.5', '36', '18', '7.1', '8', '0.9', '2.4', '19', '2023/07/15 15:00:00', '0.2', '16.3', '31', '0', '121.21645772', '24.86400048', '21']\n",
      "['三義', '苗栗縣', '66', '細懸浮微粒', '普通', '1.3', '0.12', '46.8', '45.2', '', '10', '2.3', '3.3', '1', '1.9', '346', '2023/07/15 15:00:00', '0.1', '21.5', '', '1', '120.75956754', '24.38248443', '27']\n",
      "['嘉義', '嘉義市', '54', '臭氧八小時', '普通', '3', '0.14', '55.8', '56.8', '20', '9', '3.6', '4.5', '0.9', '3.3', '306', '2023/07/15 15:00:00', '0.1', '12.8', '27', '2', '120.44125148', '23.46477865', '42']\n",
      "['大寮', '高雄市', '54', '細懸浮微粒', '普通', '1.6', '0.15', '47.7', '46.7', '34', '13', '7.7', '8.9', '1.2', '2.3', '296', '2023/07/15 15:00:00', '0.2', '16.7', '35', '2', '120.425311', '22.56413611', '51']\n",
      "['林園', '高雄市', '64', '臭氧八小時', '普通', '1.8', '0.14', '59.7', '59', '24', '10', '2.6', '2.9', '0.3', '3.7', '299', '2023/07/15 15:00:00', '0.1', '12.2', '32', '1', '120.41175', '22.4795', '52']\n",
      "['潮州', '屏東縣', '53', '細懸浮微粒', '普通', '2.6', '0.21', '73.6', '55.5', '27', '15', '', '', '', '3.8', '279', '2023/07/15 15:00:00', '0.2', '16.4', '28', '1', '120.561175', '22.523108', '60']\n",
      "['金門', '金門縣', '64', '臭氧八小時', '普通', '2.5', '0.2', '70.4', '59.4', '16', '11', '4.3', '4.7', '0.4', '2.9', '140', '2023/07/15 15:00:00', '0.2', '17.3', '22', '2', '118.312256', '24.432133', '77']\n",
      "['高雄(湖內)', '高雄市', '', '', '', '', '', '', '', '', '', '', '', '', '', '', '2023/07/15 15:00:00', '', '', '', '', '120.24535', '22.87985556', '202']\n",
      "['屏東(琉球)', '屏東縣', '', '', '', '', '', '', '', '', '', '', '', '', '', '', '2023/07/15 15:00:00', '', '', '', '', '120.37722', '22.35222', '204']\n"
     ]
    }
   ],
   "source": [
    " import csv\n",
    "\n",
    "airfile = open('aqx_p_432.csv',mode='r',encoding='utf-8',newline='')\n",
    "csvairfile = csv.reader(airfile)\n",
    "data_air = list(csvairfile)\n",
    "for i in data_air:\n",
    "    if i[4] !='良好':\n",
    "        print(i)"
   ]
  }
 ],
 "metadata": {
  "kernelspec": {
   "display_name": "Python 3",
   "language": "python",
   "name": "python3"
  },
  "language_info": {
   "codemirror_mode": {
    "name": "ipython",
    "version": 3
   },
   "file_extension": ".py",
   "mimetype": "text/x-python",
   "name": "python",
   "nbconvert_exporter": "python",
   "pygments_lexer": "ipython3",
   "version": "3.10.4"
  },
  "orig_nbformat": 4
 },
 "nbformat": 4,
 "nbformat_minor": 2
}
