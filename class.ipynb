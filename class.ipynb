{
 "cells": [
  {
   "cell_type": "code",
   "execution_count": 1,
   "metadata": {},
   "outputs": [
    {
     "name": "stdout",
     "output_type": "stream",
     "text": [
      "hello world\n"
     ]
    }
   ],
   "source": [
    "print('hello world')"
   ]
  },
  {
   "cell_type": "code",
   "execution_count": 49,
   "metadata": {},
   "outputs": [
    {
     "name": "stdout",
     "output_type": "stream",
     "text": [
      "70\n",
      "60\n",
      "50\n",
      "70\n"
     ]
    },
    {
     "data": {
      "text/plain": [
       "70"
      ]
     },
     "execution_count": 49,
     "metadata": {},
     "output_type": "execute_result"
    }
   ],
   "source": [
    "import copy\n",
    "a= 50\n",
    "b = 60\n",
    "c = copy.deepcopy(a)\n",
    "a = 10 + b\n",
    "d = a \n",
    "\n",
    "print(a)\n",
    "print(b)\n",
    "print(c)\n",
    "print(d)\n",
    "\n",
    "\n",
    "\n"
   ]
  },
  {
   "cell_type": "code",
   "execution_count": 1,
   "metadata": {},
   "outputs": [
    {
     "data": {
      "text/plain": [
       "5.878"
      ]
     },
     "execution_count": 1,
     "metadata": {},
     "output_type": "execute_result"
    }
   ],
   "source": [
    "import numpy as nu\n",
    "\n",
    "nu.round(5.8778,3)\n",
    "\n"
   ]
  },
  {
   "cell_type": "code",
   "execution_count": 3,
   "metadata": {},
   "outputs": [
    {
     "name": "stdout",
     "output_type": "stream",
     "text": [
      "6--b--c##"
     ]
    }
   ],
   "source": [
    "a = 6\n",
    "print(a,\"b\",'c',sep = '--',end = \"##\")"
   ]
  },
  {
   "cell_type": "code",
   "execution_count": 17,
   "metadata": {},
   "outputs": [
    {
     "name": "stdout",
     "output_type": "stream",
     "text": [
      "三角函數角度為90.0\n"
     ]
    }
   ],
   "source": [
    "import math\n",
    "import numpy as nu \n",
    "n = float(input('輸入斜邊'))\n",
    "m = float(input('輸入對邊'))\n",
    "radion = math.asin(m/n)  # sin(內角)=對邊/斜邊，這邊算sin值\n",
    "degree = nu.round(math.degrees(radion))\n",
    "print(f'三角函數角度為{degree}')\n"
   ]
  },
  {
   "cell_type": "code",
   "execution_count": 26,
   "metadata": {},
   "outputs": [
    {
     "name": "stdout",
     "output_type": "stream",
     "text": [
      "90.0\n"
     ]
    }
   ],
   "source": [
    "9 <= 6\n",
    "print(degree)"
   ]
  },
  {
   "cell_type": "code",
   "execution_count": 10,
   "metadata": {},
   "outputs": [
    {
     "name": "stdout",
     "output_type": "stream",
     "text": [
      "分數錯誤\n"
     ]
    }
   ],
   "source": [
    "\n",
    "\n",
    "score = int(input('請輸入分數(300上限)'))\n",
    "add   = str(input('請輸入加分(y,n)'))\n",
    "\n",
    "if score >=300:\n",
    "    print('分數錯誤')\n",
    "elif add == 'y':\n",
    "    score = score *1.05\n",
    "    if score >= 300:\n",
    "        score = 300\n",
    "        print(f'學生分數是:{score}')\n"
   ]
  },
  {
   "cell_type": "code",
   "execution_count": 4,
   "metadata": {},
   "outputs": [
    {
     "name": "stdout",
     "output_type": "stream",
     "text": [
      ">完美<\n"
     ]
    }
   ],
   "source": [
    "\n",
    "chinese = int(input('請輸入分數：'))\n",
    "\n",
    "if chinese <60:\n",
    "    print('不及格')\n",
    "elif chinese < 80:\n",
    "    print('尚可')\n",
    "elif chinese <100:\n",
    "    print('優')\n",
    "else :\n",
    "    print('>完美<')\n"
   ]
  },
  {
   "cell_type": "code",
   "execution_count": 15,
   "metadata": {},
   "outputs": [
    {
     "name": "stdout",
     "output_type": "stream",
     "text": [
      "格式錯誤\n"
     ]
    }
   ],
   "source": [
    "\n",
    "score = input('請輸入分數(0~100的整數):')\n",
    "\n",
    "if type(score) != int:\n",
    "    print('格式錯誤')\n",
    "else:\n",
    "    if score < 0:\n",
    "        print('超出範圍(過小)')\n",
    "    elif score < 59:\n",
    "        print('丁')\n",
    "    elif score < 69:\n",
    "        print('丙')\n",
    "    elif score < 79:\n",
    "        print('乙')\n",
    "    elif score < 89:\n",
    "        print('甲')\n",
    "    elif score <= 100:\n",
    "        print('優')\n",
    "    else :\n",
    "        print('超出範圍(過大)')"
   ]
  },
  {
   "cell_type": "code",
   "execution_count": 18,
   "metadata": {},
   "outputs": [
    {
     "name": "stdout",
     "output_type": "stream",
     "text": [
      "分數100\n"
     ]
    }
   ],
   "source": [
    "\n",
    "a = 100\n",
    "if not a == 100:\n",
    "    print('不分數為100')\n",
    "else:\n",
    "    print('分數100')"
   ]
  },
  {
   "cell_type": "code",
   "execution_count": 24,
   "metadata": {},
   "outputs": [
    {
     "name": "stdout",
     "output_type": "stream",
     "text": [
      "Flopsy\n",
      "Mopsy\n",
      "Cottontail\n",
      "Peter\n"
     ]
    }
   ],
   "source": [
    "rabbits = ['Flopsy', 'Mopsy', 'Cottontail', 'Peter']\n",
    "for i in rabbits:\n",
    "    print(i)"
   ]
  },
  {
   "cell_type": "code",
   "execution_count": 29,
   "metadata": {},
   "outputs": [
    {
     "name": "stdout",
     "output_type": "stream",
     "text": [
      "500\n"
     ]
    }
   ],
   "source": [
    "chinese = 199\n",
    "english = 100\n",
    "\n",
    "if chinese ==100 and english ==100:\n",
    "    print('1000')\n",
    "elif chinese == 100 or english == 100:\n",
    "    print(\"500\")\n",
    "else :\n",
    "    print('0')\n"
   ]
  },
  {
   "cell_type": "code",
   "execution_count": 3,
   "metadata": {},
   "outputs": [
    {
     "name": "stdout",
     "output_type": "stream",
     "text": [
      "D\n",
      "Asd\n",
      "Sd\n",
      "Gg\n",
      "Aae\n",
      "As\n",
      "Sde\n",
      "Dd\n",
      "程式結束\n"
     ]
    }
   ],
   "source": [
    "while(True):\n",
    "    stuff = input(\"請輸入小寫英文字[按q會離開]:\")\n",
    "    if stuff == 'q':\n",
    "        break\n",
    "    print(stuff.capitalize())\n",
    "print(\"程式結束\")"
   ]
  },
  {
   "cell_type": "code",
   "execution_count": 7,
   "metadata": {},
   "outputs": [
    {
     "name": "stdout",
     "output_type": "stream",
     "text": [
      "10,20,30,40,50,60,70,80,90,"
     ]
    }
   ],
   "source": [
    "for i in range(10,100,10):\n",
    "    print(i,end=\",\")"
   ]
  },
  {
   "cell_type": "code",
   "execution_count": 14,
   "metadata": {},
   "outputs": [
    {
     "name": "stdout",
     "output_type": "stream",
     "text": [
      "1\n",
      "3\n",
      "6\n",
      "10\n",
      "15\n",
      "21\n",
      "28\n",
      "36\n",
      "45\n",
      "55\n",
      "66\n",
      "78\n",
      "91\n",
      "105\n",
      "120\n",
      "136\n",
      "153\n",
      "171\n",
      "190\n",
      "210\n",
      "231\n",
      "253\n",
      "276\n",
      "300\n",
      "325\n",
      "351\n",
      "378\n",
      "406\n",
      "435\n",
      "465\n",
      "496\n",
      "528\n",
      "561\n",
      "595\n",
      "630\n",
      "666\n",
      "703\n",
      "741\n",
      "780\n",
      "820\n",
      "861\n",
      "903\n",
      "946\n",
      "990\n",
      "1035\n",
      "1081\n",
      "1128\n",
      "1176\n",
      "1225\n",
      "1275\n",
      "1326\n",
      "1378\n",
      "1431\n",
      "1485\n",
      "1540\n",
      "1596\n",
      "1653\n",
      "1711\n",
      "1770\n",
      "1830\n",
      "1891\n",
      "1953\n",
      "2016\n",
      "2080\n",
      "2145\n",
      "2211\n",
      "2278\n",
      "2346\n",
      "2415\n",
      "2485\n",
      "2556\n",
      "2628\n",
      "2701\n",
      "2775\n",
      "2850\n",
      "2926\n",
      "3003\n",
      "3081\n",
      "3160\n",
      "3240\n",
      "3321\n",
      "3403\n",
      "3486\n",
      "3570\n",
      "3655\n",
      "3741\n",
      "3828\n",
      "3916\n",
      "4005\n",
      "4095\n",
      "4186\n",
      "4278\n",
      "4371\n",
      "4465\n",
      "4560\n",
      "4656\n",
      "4753\n",
      "4851\n",
      "4950\n",
      "5050\n",
      "加總結果\"5050\"\n"
     ]
    }
   ],
   "source": [
    "result = 0 \n",
    "for i in range(1,101):\n",
    "    result += i \n",
    "    print(result)\n",
    "print (f'加總結果\"{result}\"')"
   ]
  },
  {
   "cell_type": "code",
   "execution_count": 4,
   "metadata": {},
   "outputs": [
    {
     "name": "stdout",
     "output_type": "stream",
     "text": [
      "0\n",
      "1\n",
      "2\n",
      "3\n",
      "4\n",
      "5\n",
      "6\n",
      "7\n",
      "8\n",
      "9\n"
     ]
    }
   ],
   "source": [
    "for i in range(10):\n",
    "    print(i)"
   ]
  },
  {
   "cell_type": "code",
   "execution_count": 13,
   "metadata": {},
   "outputs": [
    {
     "name": "stdout",
     "output_type": "stream",
     "text": [
      "\n",
      "i=0\n",
      "j=0j=1j=2j=3j=4j=5j=6j=7j=8j=9\n",
      "i=1\n",
      "j=0j=1j=2j=3j=4j=5j=6j=7j=8j=9\n",
      "i=2\n",
      "j=0j=1j=2j=3j=4j=5j=6j=7j=8j=9\n",
      "i=3\n",
      "j=0j=1j=2j=3j=4j=5j=6j=7j=8j=9\n",
      "i=4\n",
      "j=0j=1j=2j=3j=4j=5j=6j=7j=8j=9\n",
      "i=5\n",
      "j=0j=1j=2j=3j=4j=5j=6j=7j=8j=9\n",
      "i=6\n",
      "j=0j=1j=2j=3j=4j=5j=6j=7j=8j=9\n",
      "i=7\n",
      "j=0j=1j=2j=3j=4j=5j=6j=7j=8j=9\n",
      "i=8\n",
      "j=0j=1j=2j=3j=4j=5j=6j=7j=8j=9\n",
      "i=9\n",
      "j=0j=1j=2j=3j=4j=5j=6j=7j=8j=9"
     ]
    }
   ],
   "source": [
    "for i in range(10):\n",
    "    print(f'\\ni={i}')\n",
    "    for j in range(10):\n",
    "        print(f'j={j}',end = \"\")\n",
    "#    print('\\n===========')"
   ]
  },
  {
   "cell_type": "code",
   "execution_count": 23,
   "metadata": {},
   "outputs": [
    {
     "name": "stdout",
     "output_type": "stream",
     "text": [
      "1*1=1 2*1=2 3*1=3 4*1=4 5*1=5 6*1=6 7*1=7 8*1=8 9*1=9 \n",
      "\n",
      "1*2=2 2*2=4 3*2=6 4*2=8 5*2=10 6*2=12 7*2=14 8*2=16 9*2=18 \n",
      "\n",
      "1*3=3 2*3=6 3*3=9 4*3=12 5*3=15 6*3=18 7*3=21 8*3=24 9*3=27 \n",
      "\n",
      "1*4=4 2*4=8 3*4=12 4*4=16 5*4=20 6*4=24 7*4=28 8*4=32 9*4=36 \n",
      "\n",
      "1*5=5 2*5=10 3*5=15 4*5=20 5*5=25 6*5=30 7*5=35 8*5=40 9*5=45 \n",
      "\n",
      "1*6=6 2*6=12 3*6=18 4*6=24 5*6=30 6*6=36 7*6=42 8*6=48 9*6=54 \n",
      "\n",
      "1*7=7 2*7=14 3*7=21 4*7=28 5*7=35 6*7=42 7*7=49 8*7=56 9*7=63 \n",
      "\n",
      "1*8=8 2*8=16 3*8=24 4*8=32 5*8=40 6*8=48 7*8=56 8*8=64 9*8=72 \n",
      "\n",
      "1*9=9 2*9=18 3*9=27 4*9=36 5*9=45 6*9=54 7*9=63 8*9=72 9*9=81 \n",
      "\n"
     ]
    }
   ],
   "source": [
    "for i in range(1,10):\n",
    "#    print(f'\\ni={i}')\n",
    "    for j in range(1,10):\n",
    "        print(f'{j}*{i}={i*j}',end = \" \")\n",
    "    print('\\n')"
   ]
  },
  {
   "cell_type": "code",
   "execution_count": 34,
   "metadata": {},
   "outputs": [
    {
     "name": "stdout",
     "output_type": "stream",
     "text": [
      "總供需要花:4個月，已經存了36000\n",
      "[9000, 18000, 27000, 36000]\n"
     ]
    }
   ],
   "source": [
    "deposit = 0\n",
    "l = []\n",
    "while deposit < 30000:\n",
    "    vlaue = int(input('請輸入這個月的存款='))\n",
    "    deposit +=vlaue\n",
    "    l.append(deposit)\n",
    "print(f'總供需要花:{len(l)}個月，已經存了{deposit}')\n",
    "print (l)"
   ]
  },
  {
   "cell_type": "code",
   "execution_count": 8,
   "metadata": {},
   "outputs": [
    {
     "name": "stdout",
     "output_type": "stream",
     "text": [
      "所有數值加總為:0\n"
     ]
    }
   ],
   "source": [
    "sum = 0\n",
    "num = 0\n",
    "while True :\n",
    "    num += 1\n",
    "    value = int(input(f'請輸第{num}個數值='))\n",
    "    if value < 0:\n",
    "        break\n",
    "    elif value % 2 == 1:\n",
    "        continue\n",
    "    else:\n",
    "        sum += value\n",
    "print(f'所有數值加總為:{sum}')\n",
    "\n"
   ]
  },
  {
   "cell_type": "code",
   "execution_count": 41,
   "metadata": {},
   "outputs": [
    {
     "data": {
      "text/plain": [
       "3"
      ]
     },
     "execution_count": 41,
     "metadata": {},
     "output_type": "execute_result"
    }
   ],
   "source": [
    "import random\n",
    "random.randrange(1)\n",
    "random.randint(2,10)"
   ]
  },
  {
   "cell_type": "code",
   "execution_count": 39,
   "metadata": {},
   "outputs": [
    {
     "name": "stdout",
     "output_type": "stream",
     "text": [
      "可以\n",
      "-4\n"
     ]
    }
   ],
   "source": [
    "import random\n",
    "\n",
    "value = random.randint(-10,10)\n",
    "if value < 5 :\n",
    "    print('可以')\n",
    "    print(value)\n",
    "else:\n",
    "    print('不可')\n",
    "    print(value)"
   ]
  },
  {
   "cell_type": "code",
   "execution_count": 61,
   "metadata": {},
   "outputs": [
    {
     "name": "stdout",
     "output_type": "stream",
     "text": [
      "2499\n"
     ]
    }
   ],
   "source": [
    "def run(a:int,b:int):\n",
    "    return int(a*b/2)\n",
    "\n",
    "jojo = 99\n",
    "jojo1 = 50.5\n",
    "print(run(jojo,jojo1))\n",
    "\n"
   ]
  },
  {
   "cell_type": "code",
   "execution_count": 6,
   "metadata": {},
   "outputs": [
    {
     "name": "stdout",
     "output_type": "stream",
     "text": [
      "(404, 'erron')\n",
      "[112, 333, 55]\n"
     ]
    }
   ],
   "source": [
    "apple = (404, 'erron')\n",
    "orange = [112,333]\n",
    "# apple.apppend(55)\n",
    "orange.append(55)\n",
    "print(apple)\n",
    "print(orange)\n"
   ]
  },
  {
   "cell_type": "code",
   "execution_count": 10,
   "metadata": {},
   "outputs": [
    {
     "name": "stdout",
     "output_type": "stream",
     "text": [
      "Is ugle\n",
      "is beautiful\n"
     ]
    }
   ],
   "source": [
    "def egg():\n",
    "    return ('Is ugle','is beautiful')\n",
    "(code,message) = egg()\n",
    "print(code)\n",
    "print(message)"
   ]
  },
  {
   "cell_type": "code",
   "execution_count": 19,
   "metadata": {},
   "outputs": [
    {
     "name": "stdout",
     "output_type": "stream",
     "text": [
      "cc: (11, 22, 33, 44, 55)\n",
      "aa: [11, 22, 33, 44, 55]\n",
      "<class 'tuple'>\n",
      "<class 'list'>\n"
     ]
    }
   ],
   "source": [
    "cc = (11,22,33,44,55)\n",
    "aa = list(cc)\n",
    "print('cc:',cc)\n",
    "print('aa:',aa)\n",
    "print(type(cc))\n",
    "print(type(aa))"
   ]
  },
  {
   "cell_type": "code",
   "execution_count": 20,
   "metadata": {},
   "outputs": [
    {
     "name": "stdout",
     "output_type": "stream",
     "text": [
      "aa: [99, 11, 22, 33, 44, 55]\n"
     ]
    }
   ],
   "source": [
    "aa.insert(0,99)\n",
    "print('aa:',aa)"
   ]
  },
  {
   "cell_type": "code",
   "execution_count": 31,
   "metadata": {},
   "outputs": [
    {
     "name": "stdout",
     "output_type": "stream",
     "text": [
      "['h', 'e', 'l', 'l', 'o', ' ', 'w', 'o', 'r', 'l', 'd']\n",
      "['h', 'e', 'l', 'l', 'o']\n",
      "['w', 'o', 'r', 'l']\n",
      "['h', 'e', 'l', 'l', 'o']\n",
      "['w', 'o', 'r', 'l', 'd']\n"
     ]
    }
   ],
   "source": [
    "world = list('hello world')\n",
    "print(world)\n",
    "print(world[0:5])\n",
    "print(world[-5:-1])\n",
    "print(world[:5])\n",
    "print(world[-5:])\n",
    "\n"
   ]
  },
  {
   "cell_type": "code",
   "execution_count": 34,
   "metadata": {},
   "outputs": [
    {
     "name": "stdout",
     "output_type": "stream",
     "text": [
      "['hello world']\n",
      "['h', 'e', 'l', 'l', 'o', ' ', 'w', 'o', 'r', 'l', 'd']\n"
     ]
    }
   ],
   "source": [
    "zz = ['hello world']\n",
    "print(zz)\n",
    "yy = list('hello world')\n",
    "print(yy)\n"
   ]
  },
  {
   "cell_type": "code",
   "execution_count": 43,
   "metadata": {},
   "outputs": [
    {
     "name": "stdout",
     "output_type": "stream",
     "text": [
      "[['jojo', 'pig', 'dog'], ['甭', '需要', '試試']]\n",
      "['jojo', 'pig', 'dog']\n",
      "pig\n",
      "試試\n"
     ]
    }
   ],
   "source": [
    "na = ['jojo','pig','dog']\n",
    "bb = ['甭','需要','試試']\n",
    "cc = [na,bb]\n",
    "print(cc)\n",
    "print(cc[0])\n",
    "print(cc[0][1])\n",
    "print(cc[1][2])\n"
   ]
  },
  {
   "cell_type": "code",
   "execution_count": 53,
   "metadata": {},
   "outputs": [
    {
     "data": {
      "text/plain": [
       "[95, 79, 94, 92, 67]"
      ]
     },
     "execution_count": 53,
     "metadata": {},
     "output_type": "execute_result"
    }
   ],
   "source": [
    "import random\n",
    "\n",
    "stu1 = list()\n",
    "for i in range(5):\n",
    "    stu1.append(random.randint(50,100))\n",
    "stu1"
   ]
  },
  {
   "cell_type": "code",
   "execution_count": 61,
   "metadata": {},
   "outputs": [
    {
     "data": {
      "text/plain": [
       "[[85, 74, 56, 95, 100],\n",
       " [85, 50, 85, 100, 52],\n",
       " [62, 85, 67, 92, 58],\n",
       " [60, 91, 85, 77, 51],\n",
       " [86, 88, 67, 78, 93],\n",
       " [72, 71, 86, 60, 75],\n",
       " [82, 57, 56, 85, 53],\n",
       " [61, 55, 76, 97, 99],\n",
       " [75, 73, 82, 92, 83],\n",
       " [50, 84, 76, 52, 94],\n",
       " [69, 96, 67, 87, 73],\n",
       " [85, 81, 98, 60, 88],\n",
       " [63, 79, 78, 67, 96],\n",
       " [51, 67, 66, 98, 67],\n",
       " [93, 98, 75, 67, 63],\n",
       " [95, 74, 92, 62, 84],\n",
       " [78, 82, 85, 97, 53],\n",
       " [96, 61, 91, 86, 62],\n",
       " [57, 70, 90, 92, 54],\n",
       " [66, 87, 63, 76, 63],\n",
       " [65, 86, 93, 94, 76],\n",
       " [88, 59, 99, 81, 83],\n",
       " [95, 64, 85, 88, 85],\n",
       " [55, 70, 83, 58, 81],\n",
       " [53, 76, 87, 82, 95],\n",
       " [99, 91, 62, 67, 59],\n",
       " [89, 86, 80, 77, 99],\n",
       " [93, 99, 90, 98, 76],\n",
       " [51, 100, 64, 78, 69],\n",
       " [72, 83, 60, 90, 82],\n",
       " [84, 84, 73, 100, 91],\n",
       " [78, 63, 83, 83, 93],\n",
       " [95, 87, 58, 78, 52],\n",
       " [84, 93, 96, 70, 83],\n",
       " [53, 91, 67, 50, 96],\n",
       " [61, 68, 96, 75, 75],\n",
       " [73, 57, 93, 73, 58],\n",
       " [84, 95, 94, 93, 89],\n",
       " [63, 54, 60, 67, 56],\n",
       " [56, 59, 58, 75, 51],\n",
       " [59, 92, 63, 61, 56],\n",
       " [88, 60, 88, 73, 73],\n",
       " [76, 51, 84, 58, 91],\n",
       " [83, 90, 56, 70, 70],\n",
       " [79, 73, 99, 92, 73],\n",
       " [69, 85, 57, 81, 66],\n",
       " [59, 59, 84, 86, 74],\n",
       " [78, 52, 81, 55, 54],\n",
       " [73, 85, 76, 95, 91],\n",
       " [62, 99, 86, 60, 69]]"
      ]
     },
     "execution_count": 61,
     "metadata": {},
     "output_type": "execute_result"
    }
   ],
   "source": [
    "students = []\n",
    "for _ in range(50):\n",
    "    stu = list()\n",
    "    for _ in range(5):\n",
    "        stu.append(random.randint(50,100))\n",
    "    students.append(stu)\n",
    "students\n",
    "\n"
   ]
  },
  {
   "cell_type": "code",
   "execution_count": 3,
   "metadata": {},
   "outputs": [],
   "source": [
    "text = '''python與中文\n",
    "1. 我們來試試看中文儲存能力。\n",
    "2. 許這個字會有編碼衝突風險。\n",
    "3. 犇這個字必須是utf8編碼才有。'''\n",
    "\n",
    "file = open('hello.txt',mode='w')\n",
    "print(text,file = file)\n",
    "file.close()"
   ]
  },
  {
   "cell_type": "code",
   "execution_count": 4,
   "metadata": {},
   "outputs": [],
   "source": [
    "file = open('hello1.txt',mode = 'w',encoding='utf-8')\n",
    "file.write('這是第一行\\n')\n",
    "file.write('這是第二行\\n')\n",
    "file.writelines('''這是第三行\n",
    "這是第四行\n",
    "這是第五行''')\n",
    "file.close()\n"
   ]
  },
  {
   "cell_type": "code",
   "execution_count": 8,
   "metadata": {},
   "outputs": [
    {
     "name": "stdout",
     "output_type": "stream",
     "text": [
      "這是第一行\n",
      "這是第二行\n",
      "這是第三行\n",
      "這是第四行\n",
      "這是第五行\n"
     ]
    }
   ],
   "source": [
    "file = open('hello1.txt',mode = 'r',encoding='utf-8')\n",
    "all_text = file.read()\n",
    "print(all_text)\n"
   ]
  },
  {
   "cell_type": "code",
   "execution_count": null,
   "metadata": {},
   "outputs": [],
   "source": []
  }
 ],
 "metadata": {
  "kernelspec": {
   "display_name": "Python 3",
   "language": "python",
   "name": "python3"
  },
  "language_info": {
   "codemirror_mode": {
    "name": "ipython",
    "version": 3
   },
   "file_extension": ".py",
   "mimetype": "text/x-python",
   "name": "python",
   "nbconvert_exporter": "python",
   "pygments_lexer": "ipython3",
   "version": "3.10.4"
  },
  "orig_nbformat": 4
 },
 "nbformat": 4,
 "nbformat_minor": 2
}
