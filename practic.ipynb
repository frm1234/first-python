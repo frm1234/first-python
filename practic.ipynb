{
 "cells": [
  {
   "cell_type": "code",
   "execution_count": null,
   "metadata": {},
   "outputs": [],
   "source": [
    "print('Hello world')"
   ]
  },
  {
   "cell_type": "code",
   "execution_count": null,
   "metadata": {},
   "outputs": [],
   "source": [
    "'''學習所有程式語言的第一個練習題 \n",
    "請寫一個程式，可以讀入指定的字串，並且輸出指定的字串。\n",
    "\n",
    "比如：輸入字串 \"world\", 則請輸出 \"hello, world\"'''\n",
    "\n",
    "num = str(input('請輸入正確英文:'))\n",
    "if num == \"world\" :\n",
    "    print('hello, world')\n",
    "else:\n",
    "    print('輸入錯誤')\n"
   ]
  },
  {
   "cell_type": "code",
   "execution_count": null,
   "metadata": {},
   "outputs": [],
   "source": [
    "'''請寫一個程式，讀入兩個數字，並求出它們的和。'''\n",
    "'''\n",
    "num = int(input('請輸入數字:'))\n",
    "num2 = int(input(\"請輸入數字2:\"))\n",
    "num3 = num + num2\n",
    "print(f'兩者相加等於:{num3}')\n",
    "'''\n",
    "a, b = map(int, input().split())\n",
    "re = a + b\n",
    "print(re)"
   ]
  },
  {
   "cell_type": "code",
   "execution_count": null,
   "metadata": {},
   "outputs": [],
   "source": [
    "'''兩光法師時常替人占卜，由於他算得又快有便宜，因此生意源源不絕，時常大排長龍，他想算 得更快一點，因此找了你這位電腦高手幫他用電腦來加快算命的速度。\n",
    "\n",
    "他的占卜規則很簡單，規則是這樣的，輸入一個日期，然後依照下面的公式：\n",
    "\n",
    "M=月\n",
    "D=日\n",
    "S=(M*2+D)%3\n",
    "\n",
    "得到 S 的值，再依照 S 的值從 0 到 2 分別給與 普通、吉、大吉 等三種不同的運勢'''\n",
    "\n",
    "m = int(input('月份:'))\n",
    "d = int(input('日子:'))\n",
    "s = (m*2+d)%3 \n",
    "if s == 0:\n",
    "    print('普通')\n",
    "elif s== 1:\n",
    "    print(\"吉\")\n",
    "elif s==2:\n",
    "    print('大吉')\n",
    "else:\n",
    "    print('沒救了')"
   ]
  },
  {
   "cell_type": "code",
   "execution_count": 13,
   "metadata": {},
   "outputs": [
    {
     "name": "stdout",
     "output_type": "stream",
     "text": [
      "閏年\n"
     ]
    }
   ],
   "source": [
    "'''文文為即將出國的珊珊送行，由於珊珊不喜歡別人給文文的那個綽號，\n",
    "意思就是嘲笑文文不夠 聰明，但珊珊沒把握那個綽號是不是事實，\n",
    "所以珊珊決定考驗文文，於是告訴文文說，如果你能在 我回國之前回答我生日那年是不是閏年，\n",
    "則等她回國後就答應他的求婚。文文抓抓腦袋想不出來， 於是決定讓最擅長做運算的電腦來幫忙。'''\n",
    "\n",
    "num = int(input('請輸入年分'))\n",
    "\n",
    "if num%4 == 0 and num%100!= 0 :\n",
    "    print('閏年')\n",
    "elif num%400 ==0:\n",
    "    print('閏年')\n",
    "else :\n",
    "    print('平年')\n"
   ]
  },
  {
   "cell_type": "code",
   "execution_count": 2,
   "metadata": {},
   "outputs": [
    {
     "name": "stdout",
     "output_type": "stream",
     "text": [
      "1 2 1\n",
      "1 2 3\n",
      "1 2 4\n",
      "1 2 5\n",
      "1 3 1\n",
      "1 3 2\n",
      "1 3 4\n",
      "1 3 5\n",
      "1 4 1\n",
      "1 4 2\n",
      "1 4 3\n",
      "1 4 5\n",
      "1 5 1\n",
      "1 5 2\n",
      "1 5 3\n",
      "1 5 4\n",
      "2 1 2\n",
      "2 1 3\n",
      "2 1 4\n",
      "2 1 5\n",
      "2 3 1\n",
      "2 3 2\n",
      "2 3 4\n",
      "2 3 5\n",
      "2 4 1\n",
      "2 4 2\n",
      "2 4 3\n",
      "2 4 5\n",
      "2 5 1\n",
      "2 5 2\n",
      "2 5 3\n",
      "2 5 4\n",
      "3 1 2\n",
      "3 1 3\n",
      "3 1 4\n",
      "3 1 5\n",
      "3 2 1\n",
      "3 2 3\n",
      "3 2 4\n",
      "3 2 5\n",
      "3 4 1\n",
      "3 4 2\n",
      "3 4 3\n",
      "3 4 5\n",
      "3 5 1\n",
      "3 5 2\n",
      "3 5 3\n",
      "3 5 4\n",
      "4 1 2\n",
      "4 1 3\n",
      "4 1 4\n",
      "4 1 5\n",
      "4 2 1\n",
      "4 2 3\n",
      "4 2 4\n",
      "4 2 5\n",
      "4 3 1\n",
      "4 3 2\n",
      "4 3 4\n",
      "4 3 5\n",
      "4 5 1\n",
      "4 5 2\n",
      "4 5 3\n",
      "4 5 4\n",
      "5 1 2\n",
      "5 1 3\n",
      "5 1 4\n",
      "5 1 5\n",
      "5 2 1\n",
      "5 2 3\n",
      "5 2 4\n",
      "5 2 5\n",
      "5 3 1\n",
      "5 3 2\n",
      "5 3 4\n",
      "5 3 5\n",
      "5 4 1\n",
      "5 4 2\n",
      "5 4 3\n",
      "5 4 5\n"
     ]
    }
   ],
   "source": [
    "'''题目：有四个数字：1、2、3、4，能组成多少个互不相同且无重复数字的三位数？各是多少？\n",
    "\n",
    "程序分析：可填在百位、十位、个位的数字都是1、2、3、4。组成所有的排列后再去 掉不满足条件的排列。\n",
    "\n",
    "程序源代码：'''\n",
    "\n",
    "for i in range(1,6):\n",
    "    for j in range(1,6):\n",
    "        for k in range(1,6):\n",
    "            if (i!=j) and (j!=k) and (k!=j):\n",
    "                print(i,j,k)\n",
    "\n"
   ]
  },
  {
   "cell_type": "code",
   "execution_count": 29,
   "metadata": {},
   "outputs": [
    {
     "name": "stdout",
     "output_type": "stream",
     "text": [
      "1500.0\n",
      "10000.0\n",
      "11500.0\n"
     ]
    }
   ],
   "source": [
    "'''题目：企业发放的奖金根据利润提成。利润(I)低于或等于10万元时，奖金可提10%；\n",
    "利润高于10万元，低于20万元时，低于10万元的部分按10%提成，高于10万元的部分，可提成7.5%；\n",
    "20万到40万之间时，高于20万元的部分，可提成5%；40万到60万之间时高于40万元的部分，可提成3%；\n",
    "60万到100万之间时，高于60万元的部分，可提成1.5%，高于100万元时，超过100万元的部分按1%提成，\n",
    "从键盘输入当月利润I，求应发放奖金总数？\n",
    "程序分析：请利用数轴来分界，定位。'''\n",
    "\n",
    "'''\n",
    "i = int(input('净利润:'))\n",
    "arr = [1000000,600000,400000,200000,100000,0]\n",
    "rat = [0.01,0.015,0.03,0.05,0.075,0.1]\n",
    "r = 0\n",
    "for idx in range(0,6):\n",
    "    if i>arr[idx]:\n",
    "        r+=(i-arr[idx])*rat[idx]\n",
    "        print ((i-arr[idx])*rat[idx])\n",
    "        i=arr[idx]\n",
    "print (r)\n",
    "'''\n",
    "i = int(input('淨利潤:'))\n",
    "arr = [1000000, 600000, 400000, 200000, 100000, 0]\n",
    "rat = [0.01,0.015,0.03,0.05,0.075,0.1]\n",
    "r = 0\n",
    "for idx in range(0,6):\n",
    "    if i>arr[idx]:\n",
    "        r+=(i-arr[idx])*rat[idx]\n",
    "        print((i-arr[idx])*rat[idx])\n",
    "        i =arr[idx]\n",
    "print(r)\n",
    "\n",
    "\n"
   ]
  },
  {
   "cell_type": "code",
   "execution_count": 28,
   "metadata": {},
   "outputs": [
    {
     "name": "stdout",
     "output_type": "stream",
     "text": [
      "[1000000, 600000, 400000, 200000, 100000, 0]\n"
     ]
    }
   ],
   "source": [
    "arr = [0,100000,200000,400000,600000,1000000]\n",
    "print(sorted(arr,reverse=1))"
   ]
  },
  {
   "cell_type": "code",
   "execution_count": 2,
   "metadata": {},
   "outputs": [
    {
     "name": "stdout",
     "output_type": "stream",
     "text": [
      "-99\n",
      "21\n",
      "261\n",
      "1581\n"
     ]
    }
   ],
   "source": [
    "'''一个整数，它加上100后是一个完全平方数，再加上168又是一个完全平方数，请问该数是多少？'''\n",
    "for y in range(168):\n",
    "    for x in range(y):\n",
    "        if y**2 - x**2 == 168:\n",
    "            n = x**2 - 100\n",
    "            print (n)"
   ]
  },
  {
   "cell_type": "code",
   "execution_count": 5,
   "metadata": {},
   "outputs": [
    {
     "name": "stdout",
     "output_type": "stream",
     "text": [
      "it is the 36th day.\n"
     ]
    }
   ],
   "source": [
    "'''输入某年某月某日，判断这一天是这一年的第几天？'''\n",
    "year=int(input('請輸入年:'))\n",
    "month=int(input('請輸入月:'))\n",
    "day=int(input('請輸入日:'))\n",
    "\n",
    "months = (0,31,59,90,120,151,181,212,243,273,304,334)\n",
    "if 0 < month <= 12:\n",
    "    sum = months[month - 1]\n",
    "else:\n",
    "    print('data error')\n",
    "sum= sum + day\n",
    "leap = 0\n",
    "if (year % 400 ==0) or ((year%4 == 0) and (year % 100!= 0 )):\n",
    "    leap = 1\n",
    "if (leap == 1) and (month > 2 ):\n",
    "    sum += 1\n",
    "print('it is the %dth day.'%sum)\n"
   ]
  },
  {
   "cell_type": "code",
   "execution_count": 13,
   "metadata": {},
   "outputs": [
    {
     "name": "stdout",
     "output_type": "stream",
     "text": [
      "['5', '6', '9']\n"
     ]
    }
   ],
   "source": [
    "'''题目：输入三个整数x,y,z，请把这三个数由小到大输出。\n",
    "\n",
    "程序分析：我们想办法把最小的数放到x上，先将x与y进行比较，\n",
    "如果x>y则将x与y的值进行交换，然后再用x与z进行比较，如果x>z则将x与z的值进行交换，这样能使x最小。'''\n",
    "\n",
    "num = []\n",
    "for i in range(3):\n",
    "    num1 = (input('請輸入數字'))\n",
    "    num.append(num1)\n",
    "num.sort()\n",
    "\n",
    "print(num)"
   ]
  },
  {
   "cell_type": "code",
   "execution_count": 7,
   "metadata": {},
   "outputs": [
    {
     "name": "stdout",
     "output_type": "stream",
     "text": [
      "5\n"
     ]
    }
   ],
   "source": [
    "'''题目：斐波那契数列。\n",
    "\n",
    "程序分析：斐波那契数列（Fibonacci sequence），又称黄金分割数列，指的是这样一个数列：0、1、1、2、3、5、8、13、21、34、……。\n",
    "\n",
    "在数学上，费波那契数列是以递归的方法来定义：'''\n",
    "\n",
    "\n",
    "def fib(n):\n",
    "    a,b = 1,1\n",
    "    for i in range (n-1):\n",
    "        a,b = b,a+b\n",
    "    return a\n",
    "print(fib (5))"
   ]
  },
  {
   "cell_type": "code",
   "execution_count": 8,
   "metadata": {},
   "outputs": [
    {
     "data": {
      "text/plain": [
       "[1, 2, 3]"
      ]
     },
     "execution_count": 8,
     "metadata": {},
     "output_type": "execute_result"
    }
   ],
   "source": [
    "'''题目：将一个列表的数据复制到另一个列表中。\n",
    "\n",
    "程序分析：使用列表[:]。'''\n",
    "\n",
    "a= [1,2,3]\n",
    "b = a[:]\n",
    "b"
   ]
  },
  {
   "cell_type": "code",
   "execution_count": 43,
   "metadata": {},
   "outputs": [
    {
     "name": "stdout",
     "output_type": "stream",
     "text": [
      "1*1=1 \n",
      "2*1=2 2*2=4 \n",
      "3*1=3 3*2=6 3*3=9 \n",
      "4*1=4 4*2=8 4*3=12 4*4=16 \n",
      "5*1=5 5*2=10 5*3=15 5*4=20 5*5=25 \n",
      "6*1=6 6*2=12 6*3=18 6*4=24 6*5=30 6*6=36 \n",
      "7*1=7 7*2=14 7*3=21 7*4=28 7*5=35 7*6=42 7*7=49 \n",
      "8*1=8 8*2=16 8*3=24 8*4=32 8*5=40 8*6=48 8*7=56 8*8=64 \n",
      "9*1=9 9*2=18 9*3=27 9*4=36 9*5=45 9*6=54 9*7=63 9*8=72 9*9=81 \n"
     ]
    }
   ],
   "source": [
    "'''题目：输出 9*9 乘法口诀表。\n",
    "\n",
    "程序分析：分行与列考虑，共9行9列，i控制行，j控制列。'''\n",
    "\n",
    "for i in range(1, 10):\n",
    "    for j in range(1, i+1):\n",
    "        print (\"%d*%d=%d\" % (i, j, i*j),end=\" \" ) \n",
    "    print()"
   ]
  }
 ],
 "metadata": {
  "kernelspec": {
   "display_name": "Python 3",
   "language": "python",
   "name": "python3"
  },
  "language_info": {
   "codemirror_mode": {
    "name": "ipython",
    "version": 3
   },
   "file_extension": ".py",
   "mimetype": "text/x-python",
   "name": "python",
   "nbconvert_exporter": "python",
   "pygments_lexer": "ipython3",
   "version": "3.11.4"
  },
  "orig_nbformat": 4
 },
 "nbformat": 4,
 "nbformat_minor": 2
}
