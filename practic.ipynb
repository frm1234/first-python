{
 "cells": [
  {
   "cell_type": "code",
   "execution_count": null,
   "metadata": {},
   "outputs": [],
   "source": [
    "print('Hello world')"
   ]
  },
  {
   "cell_type": "code",
   "execution_count": null,
   "metadata": {},
   "outputs": [],
   "source": [
    "'''學習所有程式語言的第一個練習題 \n",
    "請寫一個程式，可以讀入指定的字串，並且輸出指定的字串。\n",
    "\n",
    "比如：輸入字串 \"world\", 則請輸出 \"hello, world\"'''\n",
    "\n",
    "num = str(input('請輸入正確英文:'))\n",
    "if num == \"world\" :\n",
    "    print('hello, world')\n",
    "else:\n",
    "    print('輸入錯誤')\n"
   ]
  },
  {
   "cell_type": "code",
   "execution_count": null,
   "metadata": {},
   "outputs": [],
   "source": [
    "'''請寫一個程式，讀入兩個數字，並求出它們的和。'''\n",
    "'''\n",
    "num = int(input('請輸入數字:'))\n",
    "num2 = int(input(\"請輸入數字2:\"))\n",
    "num3 = num + num2\n",
    "print(f'兩者相加等於:{num3}')\n",
    "'''\n",
    "a, b = map(int, input().split())\n",
    "re = a + b\n",
    "print(re)"
   ]
  },
  {
   "cell_type": "code",
   "execution_count": null,
   "metadata": {},
   "outputs": [],
   "source": [
    "'''兩光法師時常替人占卜，由於他算得又快有便宜，因此生意源源不絕，時常大排長龍，他想算 得更快一點，因此找了你這位電腦高手幫他用電腦來加快算命的速度。\n",
    "\n",
    "他的占卜規則很簡單，規則是這樣的，輸入一個日期，然後依照下面的公式：\n",
    "\n",
    "M=月\n",
    "D=日\n",
    "S=(M*2+D)%3\n",
    "\n",
    "得到 S 的值，再依照 S 的值從 0 到 2 分別給與 普通、吉、大吉 等三種不同的運勢'''\n",
    "\n",
    "m = int(input('月份:'))\n",
    "d = int(input('日子:'))\n",
    "s = (m*2+d)%3 \n",
    "if s == 0:\n",
    "    print('普通')\n",
    "elif s== 1:\n",
    "    print(\"吉\")\n",
    "elif s==2:\n",
    "    print('大吉')\n",
    "else:\n",
    "    print('沒救了')"
   ]
  },
  {
   "cell_type": "code",
   "execution_count": 13,
   "metadata": {},
   "outputs": [
    {
     "name": "stdout",
     "output_type": "stream",
     "text": [
      "閏年\n"
     ]
    }
   ],
   "source": [
    "'''文文為即將出國的珊珊送行，由於珊珊不喜歡別人給文文的那個綽號，\n",
    "意思就是嘲笑文文不夠 聰明，但珊珊沒把握那個綽號是不是事實，\n",
    "所以珊珊決定考驗文文，於是告訴文文說，如果你能在 我回國之前回答我生日那年是不是閏年，\n",
    "則等她回國後就答應他的求婚。文文抓抓腦袋想不出來， 於是決定讓最擅長做運算的電腦來幫忙。'''\n",
    "\n",
    "num = int(input('請輸入年分'))\n",
    "\n",
    "if num%4 == 0 and num%100!= 0 :\n",
    "    print('閏年')\n",
    "elif num%400 ==0:\n",
    "    print('閏年')\n",
    "else :\n",
    "    print('平年')\n"
   ]
  },
  {
   "cell_type": "code",
   "execution_count": 15,
   "metadata": {},
   "outputs": [
    {
     "data": {
      "text/plain": [
       "'Eva的家庭作業裏有很多數列填空練習。\\n填空練習的要求是：已知數列的前四項，填出第五項。\\n因 為已經知道這些數列只可能是等差或等比數列，\\n她決定寫一個程式來完成這些練習。\\n第一行是數列的數目t（0 <= t <= 20）。 \\n以下每行均包含四個整數，表示數列的前四項。 \\n約定數列的前五項均為不大於105的自然數\\n，等比數列的比值也是自然數。'"
      ]
     },
     "execution_count": 15,
     "metadata": {},
     "output_type": "execute_result"
    }
   ],
   "source": [
    "'''Eva的家庭作業裏有很多數列填空練習。\n",
    "填空練習的要求是：已知數列的前四項，填出第五項。\n",
    "因 為已經知道這些數列只可能是等差或等比數列，\n",
    "她決定寫一個程式來完成這些練習。\n",
    "第一行是數列的數目t（0 <= t <= 20）。 \n",
    "以下每行均包含四個整數，表示數列的前四項。 \n",
    "約定數列的前五項均為不大於105的自然數\n",
    "，等比數列的比值也是自然數。'''\n"
   ]
  }
 ],
 "metadata": {
  "kernelspec": {
   "display_name": "Python 3",
   "language": "python",
   "name": "python3"
  },
  "language_info": {
   "codemirror_mode": {
    "name": "ipython",
    "version": 3
   },
   "file_extension": ".py",
   "mimetype": "text/x-python",
   "name": "python",
   "nbconvert_exporter": "python",
   "pygments_lexer": "ipython3",
   "version": "3.10.4"
  },
  "orig_nbformat": 4
 },
 "nbformat": 4,
 "nbformat_minor": 2
}
