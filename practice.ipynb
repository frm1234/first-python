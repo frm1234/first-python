{
 "cells": [
  {
   "cell_type": "code",
   "execution_count": null,
   "metadata": {},
   "outputs": [],
   "source": [
    "print('Hello world')"
   ]
  },
  {
   "cell_type": "code",
   "execution_count": null,
   "metadata": {},
   "outputs": [],
   "source": [
    "'''學習所有程式語言的第一個練習題 \n",
    "請寫一個程式，可以讀入指定的字串，並且輸出指定的字串。\n",
    "\n",
    "比如：輸入字串 \"world\", 則請輸出 \"hello, world\"'''\n",
    "\n",
    "num = str(input('請輸入正確英文:'))\n",
    "if num == \"world\" :\n",
    "    print('hello, world')\n",
    "else:\n",
    "    print('輸入錯誤')\n"
   ]
  },
  {
   "cell_type": "code",
   "execution_count": null,
   "metadata": {},
   "outputs": [],
   "source": [
    "'''請寫一個程式，讀入兩個數字，並求出它們的和。'''\n",
    "'''\n",
    "num = int(input('請輸入數字:'))\n",
    "num2 = int(input(\"請輸入數字2:\"))\n",
    "num3 = num + num2\n",
    "print(f'兩者相加等於:{num3}')\n",
    "'''\n",
    "a, b = map(int, input().split())\n",
    "re = a + b\n",
    "print(re)"
   ]
  },
  {
   "cell_type": "code",
   "execution_count": null,
   "metadata": {},
   "outputs": [],
   "source": [
    "'''兩光法師時常替人占卜，由於他算得又快有便宜，因此生意源源不絕，時常大排長龍，他想算 得更快一點，因此找了你這位電腦高手幫他用電腦來加快算命的速度。\n",
    "\n",
    "他的占卜規則很簡單，規則是這樣的，輸入一個日期，然後依照下面的公式：\n",
    "\n",
    "M=月\n",
    "D=日\n",
    "S=(M*2+D)%3\n",
    "\n",
    "得到 S 的值，再依照 S 的值從 0 到 2 分別給與 普通、吉、大吉 等三種不同的運勢'''\n",
    "\n",
    "m = int(input('月份:'))\n",
    "d = int(input('日子:'))\n",
    "s = (m*2+d)%3 \n",
    "if s == 0:\n",
    "    print('普通')\n",
    "elif s== 1:\n",
    "    print(\"吉\")\n",
    "elif s==2:\n",
    "    print('大吉')\n",
    "else:\n",
    "    print('沒救了')"
   ]
  },
  {
   "cell_type": "code",
   "execution_count": 13,
   "metadata": {},
   "outputs": [
    {
     "name": "stdout",
     "output_type": "stream",
     "text": [
      "閏年\n"
     ]
    }
   ],
   "source": [
    "'''文文為即將出國的珊珊送行，由於珊珊不喜歡別人給文文的那個綽號，\n",
    "意思就是嘲笑文文不夠 聰明，但珊珊沒把握那個綽號是不是事實，\n",
    "所以珊珊決定考驗文文，於是告訴文文說，如果你能在 我回國之前回答我生日那年是不是閏年，\n",
    "則等她回國後就答應他的求婚。文文抓抓腦袋想不出來， 於是決定讓最擅長做運算的電腦來幫忙。'''\n",
    "\n",
    "num = int(input('請輸入年分'))\n",
    "\n",
    "if num%4 == 0 and num%100!= 0 :\n",
    "    print('閏年')\n",
    "elif num%400 ==0:\n",
    "    print('閏年')\n",
    "else :\n",
    "    print('平年')\n"
   ]
  },
  {
   "cell_type": "code",
   "execution_count": 2,
   "metadata": {},
   "outputs": [
    {
     "name": "stdout",
     "output_type": "stream",
     "text": [
      "1 2 1\n",
      "1 2 3\n",
      "1 2 4\n",
      "1 2 5\n",
      "1 3 1\n",
      "1 3 2\n",
      "1 3 4\n",
      "1 3 5\n",
      "1 4 1\n",
      "1 4 2\n",
      "1 4 3\n",
      "1 4 5\n",
      "1 5 1\n",
      "1 5 2\n",
      "1 5 3\n",
      "1 5 4\n",
      "2 1 2\n",
      "2 1 3\n",
      "2 1 4\n",
      "2 1 5\n",
      "2 3 1\n",
      "2 3 2\n",
      "2 3 4\n",
      "2 3 5\n",
      "2 4 1\n",
      "2 4 2\n",
      "2 4 3\n",
      "2 4 5\n",
      "2 5 1\n",
      "2 5 2\n",
      "2 5 3\n",
      "2 5 4\n",
      "3 1 2\n",
      "3 1 3\n",
      "3 1 4\n",
      "3 1 5\n",
      "3 2 1\n",
      "3 2 3\n",
      "3 2 4\n",
      "3 2 5\n",
      "3 4 1\n",
      "3 4 2\n",
      "3 4 3\n",
      "3 4 5\n",
      "3 5 1\n",
      "3 5 2\n",
      "3 5 3\n",
      "3 5 4\n",
      "4 1 2\n",
      "4 1 3\n",
      "4 1 4\n",
      "4 1 5\n",
      "4 2 1\n",
      "4 2 3\n",
      "4 2 4\n",
      "4 2 5\n",
      "4 3 1\n",
      "4 3 2\n",
      "4 3 4\n",
      "4 3 5\n",
      "4 5 1\n",
      "4 5 2\n",
      "4 5 3\n",
      "4 5 4\n",
      "5 1 2\n",
      "5 1 3\n",
      "5 1 4\n",
      "5 1 5\n",
      "5 2 1\n",
      "5 2 3\n",
      "5 2 4\n",
      "5 2 5\n",
      "5 3 1\n",
      "5 3 2\n",
      "5 3 4\n",
      "5 3 5\n",
      "5 4 1\n",
      "5 4 2\n",
      "5 4 3\n",
      "5 4 5\n"
     ]
    }
   ],
   "source": [
    "'''题目：有四个数字：1、2、3、4，能组成多少个互不相同且无重复数字的三位数？各是多少？\n",
    "\n",
    "程序分析：可填在百位、十位、个位的数字都是1、2、3、4。组成所有的排列后再去 掉不满足条件的排列。\n",
    "\n",
    "程序源代码：'''\n",
    "\n",
    "for i in range(1,6):\n",
    "    for j in range(1,6):\n",
    "        for k in range(1,6):\n",
    "            if (i!=j) and (j!=k) and (k!=j):\n",
    "                print(i,j,k)\n",
    "\n"
   ]
  },
  {
   "cell_type": "code",
   "execution_count": 29,
   "metadata": {},
   "outputs": [
    {
     "name": "stdout",
     "output_type": "stream",
     "text": [
      "1500.0\n",
      "10000.0\n",
      "11500.0\n"
     ]
    }
   ],
   "source": [
    "'''题目：企业发放的奖金根据利润提成。利润(I)低于或等于10万元时，奖金可提10%；\n",
    "利润高于10万元，低于20万元时，低于10万元的部分按10%提成，高于10万元的部分，可提成7.5%；\n",
    "20万到40万之间时，高于20万元的部分，可提成5%；40万到60万之间时高于40万元的部分，可提成3%；\n",
    "60万到100万之间时，高于60万元的部分，可提成1.5%，高于100万元时，超过100万元的部分按1%提成，\n",
    "从键盘输入当月利润I，求应发放奖金总数？\n",
    "程序分析：请利用数轴来分界，定位。'''\n",
    "\n",
    "'''\n",
    "i = int(input('净利润:'))\n",
    "arr = [1000000,600000,400000,200000,100000,0]\n",
    "rat = [0.01,0.015,0.03,0.05,0.075,0.1]\n",
    "r = 0\n",
    "for idx in range(0,6):\n",
    "    if i>arr[idx]:\n",
    "        r+=(i-arr[idx])*rat[idx]\n",
    "        print ((i-arr[idx])*rat[idx])\n",
    "        i=arr[idx]\n",
    "print (r)\n",
    "'''\n",
    "i = int(input('淨利潤:'))\n",
    "arr = [1000000, 600000, 400000, 200000, 100000, 0]\n",
    "rat = [0.01,0.015,0.03,0.05,0.075,0.1]\n",
    "r = 0\n",
    "for idx in range(0,6):\n",
    "    if i>arr[idx]:\n",
    "        r+=(i-arr[idx])*rat[idx]\n",
    "        print((i-arr[idx])*rat[idx])\n",
    "        i =arr[idx]\n",
    "print(r)\n",
    "\n",
    "\n"
   ]
  },
  {
   "cell_type": "code",
   "execution_count": 28,
   "metadata": {},
   "outputs": [
    {
     "name": "stdout",
     "output_type": "stream",
     "text": [
      "[1000000, 600000, 400000, 200000, 100000, 0]\n"
     ]
    }
   ],
   "source": [
    "arr = [0,100000,200000,400000,600000,1000000]\n",
    "print(sorted(arr,reverse=1))"
   ]
  },
  {
   "cell_type": "code",
   "execution_count": 2,
   "metadata": {},
   "outputs": [
    {
     "name": "stdout",
     "output_type": "stream",
     "text": [
      "-99\n",
      "21\n",
      "261\n",
      "1581\n"
     ]
    }
   ],
   "source": [
    "'''一个整数，它加上100后是一个完全平方数，再加上168又是一个完全平方数，请问该数是多少？'''\n",
    "for y in range(168):\n",
    "    for x in range(y):\n",
    "        if y**2 - x**2 == 168:\n",
    "            n = x**2 - 100\n",
    "            print (n)"
   ]
  },
  {
   "cell_type": "code",
   "execution_count": 5,
   "metadata": {},
   "outputs": [
    {
     "name": "stdout",
     "output_type": "stream",
     "text": [
      "it is the 36th day.\n"
     ]
    }
   ],
   "source": [
    "'''输入某年某月某日，判断这一天是这一年的第几天？'''\n",
    "year=int(input('請輸入年:'))\n",
    "month=int(input('請輸入月:'))\n",
    "day=int(input('請輸入日:'))\n",
    "\n",
    "months = (0,31,59,90,120,151,181,212,243,273,304,334)\n",
    "if 0 < month <= 12:\n",
    "    sum = months[month - 1]\n",
    "else:\n",
    "    print('data error')\n",
    "sum= sum + day\n",
    "leap = 0\n",
    "if (year % 400 ==0) or ((year%4 == 0) and (year % 100!= 0 )):\n",
    "    leap = 1\n",
    "if (leap == 1) and (month > 2 ):\n",
    "    sum += 1\n",
    "print('it is the %dth day.'%sum)\n"
   ]
  },
  {
   "cell_type": "code",
   "execution_count": 13,
   "metadata": {},
   "outputs": [
    {
     "name": "stdout",
     "output_type": "stream",
     "text": [
      "['5', '6', '9']\n"
     ]
    }
   ],
   "source": [
    "'''题目：输入三个整数x,y,z，请把这三个数由小到大输出。\n",
    "\n",
    "程序分析：我们想办法把最小的数放到x上，先将x与y进行比较，\n",
    "如果x>y则将x与y的值进行交换，然后再用x与z进行比较，如果x>z则将x与z的值进行交换，这样能使x最小。'''\n",
    "\n",
    "num = []\n",
    "for i in range(3):\n",
    "    num1 = (input('請輸入數字'))\n",
    "    num.append(num1)\n",
    "num.sort()\n",
    "\n",
    "print(num)"
   ]
  },
  {
   "cell_type": "code",
   "execution_count": 7,
   "metadata": {},
   "outputs": [
    {
     "name": "stdout",
     "output_type": "stream",
     "text": [
      "5\n"
     ]
    }
   ],
   "source": [
    "'''题目：斐波那契数列。\n",
    "\n",
    "程序分析：斐波那契数列（Fibonacci sequence），又称黄金分割数列，指的是这样一个数列：0、1、1、2、3、5、8、13、21、34、……。\n",
    "\n",
    "在数学上，费波那契数列是以递归的方法来定义：'''\n",
    "\n",
    "\n",
    "def fib(n):\n",
    "    a,b = 1,1\n",
    "    for i in range (n-1):\n",
    "        a,b = b,a+b\n",
    "    return a\n",
    "print(fib (5))"
   ]
  },
  {
   "cell_type": "code",
   "execution_count": 8,
   "metadata": {},
   "outputs": [
    {
     "data": {
      "text/plain": [
       "[1, 2, 3]"
      ]
     },
     "execution_count": 8,
     "metadata": {},
     "output_type": "execute_result"
    }
   ],
   "source": [
    "'''题目：将一个列表的数据复制到另一个列表中。\n",
    "\n",
    "程序分析：使用列表[:]。'''\n",
    "\n",
    "a= [1,2,3]\n",
    "b = a[:]\n",
    "b"
   ]
  },
  {
   "cell_type": "code",
   "execution_count": 43,
   "metadata": {},
   "outputs": [
    {
     "name": "stdout",
     "output_type": "stream",
     "text": [
      "1*1=1 \n",
      "2*1=2 2*2=4 \n",
      "3*1=3 3*2=6 3*3=9 \n",
      "4*1=4 4*2=8 4*3=12 4*4=16 \n",
      "5*1=5 5*2=10 5*3=15 5*4=20 5*5=25 \n",
      "6*1=6 6*2=12 6*3=18 6*4=24 6*5=30 6*6=36 \n",
      "7*1=7 7*2=14 7*3=21 7*4=28 7*5=35 7*6=42 7*7=49 \n",
      "8*1=8 8*2=16 8*3=24 8*4=32 8*5=40 8*6=48 8*7=56 8*8=64 \n",
      "9*1=9 9*2=18 9*3=27 9*4=36 9*5=45 9*6=54 9*7=63 9*8=72 9*9=81 \n"
     ]
    }
   ],
   "source": [
    "'''题目：输出 9*9 乘法口诀表。\n",
    "\n",
    "程序分析：分行与列考虑，共9行9列，i控制行，j控制列。'''\n",
    "\n",
    "for i in range(1, 10):\n",
    "    for j in range(1, i+1):\n",
    "        print (\"%d*%d=%d\" % (i, j, i*j),end=\" \" ) \n",
    "    print()"
   ]
  },
  {
   "cell_type": "code",
   "execution_count": 31,
   "metadata": {},
   "outputs": [
    {
     "name": "stdout",
     "output_type": "stream",
     "text": [
      "1687353945.2170088\n",
      "年： 2023\n",
      "月： 6\n",
      "日： 21\n",
      "時： 21\n",
      "分： 25\n",
      "秒： 45\n",
      "星期幾： 2\n"
     ]
    }
   ],
   "source": [
    "# 引入 time 模組\n",
    "import time\n",
    "\n",
    "# 從 1970/1/1 00:00:00 至今的秒數\n",
    "seconds = time.time()\n",
    "\n",
    "# 輸出結果\n",
    "print(seconds)\n",
    "\n",
    "import time\n",
    "\n",
    "# 轉換為 struct_time 格式的本地時間\n",
    "result = time.localtime(seconds)\n",
    "\n",
    "# 輸出結果\n",
    "print(\"年：\", result.tm_year)\n",
    "print(\"月：\", result.tm_mon)\n",
    "print(\"日：\", result.tm_mday)\n",
    "print(\"時：\", result.tm_hour)\n",
    "print(\"分：\", result.tm_min)\n",
    "print(\"秒：\", result.tm_sec)\n",
    "print(\"星期幾：\", result.tm_wday) # 0 代表星期一"
   ]
  },
  {
   "cell_type": "code",
   "execution_count": 34,
   "metadata": {},
   "outputs": [
    {
     "name": "stdout",
     "output_type": "stream",
     "text": [
      "Hello\n",
      "World\n"
     ]
    }
   ],
   "source": [
    "import time\n",
    "\n",
    "print(\"Hello\")\n",
    "\n",
    "# 暫停 1.5 秒\n",
    "time.sleep(5)\n",
    "\n",
    "print(\"World\")"
   ]
  },
  {
   "cell_type": "code",
   "execution_count": 39,
   "metadata": {},
   "outputs": [
    {
     "name": "stdout",
     "output_type": "stream",
     "text": [
      "1\n",
      "2\n",
      "3\n",
      "4\n",
      "5\n",
      "6\n",
      "7\n",
      "8\n",
      "9\n",
      "10\n",
      "11\n",
      "12\n",
      "13\n",
      "14\n",
      "15\n",
      "16\n",
      "17\n",
      "18\n",
      "19\n",
      "20\n"
     ]
    }
   ],
   "source": [
    "\n",
    "import time\n",
    "\n",
    "\n",
    "for i in range(1,21):\n",
    "    print (i)\n",
    "    time.sleep(1)  # 暂停一秒输出"
   ]
  },
  {
   "cell_type": "code",
   "execution_count": 9,
   "metadata": {},
   "outputs": [
    {
     "name": "stdout",
     "output_type": "stream",
     "text": [
      "num\n",
      "2023-06-24 10:21:15\n"
     ]
    }
   ],
   "source": [
    "import time\n",
    "num = time.sleep(1)\n",
    "print('num')\n",
    "\n",
    "import time\n",
    " \n",
    "print (time.strftime('%Y-%m-%d %H:%M:%S',time.localtime(time.time())))"
   ]
  },
  {
   "cell_type": "code",
   "execution_count": 37,
   "metadata": {},
   "outputs": [
    {
     "name": "stdout",
     "output_type": "stream",
     "text": [
      "           1 1            2 3            5 8 \n",
      "          13 21           34 55           89 144 \n",
      "         233 377          610 987         1597 2584 \n",
      "        4181 6765        10946 17711        28657 46368 \n",
      "       75025 121393       196418 317811       514229 832040 \n",
      "     1346269 2178309      3524578 5702887      9227465 14930352 \n",
      "    24157817 39088169     63245986 102334155    165580141 267914296 \n",
      "   433494437 701408733   1134903170 1836311903   2971215073 4807526976 \n"
     ]
    }
   ],
   "source": [
    "'''题目：古典问题：有一对兔子，从出生后第3个月起每个月都生一对兔子，小兔子长到第三个月后每个月又生一对兔子，假如兔子都不死，问每个月的兔子总数为多少？\n",
    "\n",
    "程序分析：兔子的规律为数列1,1,2,3,5,8,13,21....'''\n",
    "\n",
    "f1 = 1\n",
    "f2 = 1\n",
    "for i in range(1,25):\n",
    "    print('%12ld %ld' %(f1,f2),end=\" \")\n",
    "    if (i % 3) == 0 :\n",
    "        print(\"\")\n",
    "    f1 = f1 + f2\n",
    "    f2 = f1 + f2\n",
    "\n"
   ]
  },
  {
   "cell_type": "code",
   "execution_count": 14,
   "metadata": {},
   "outputs": [
    {
     "name": "stdout",
     "output_type": "stream",
     "text": [
      "101\n",
      "103\n",
      "107\n",
      "109\n",
      "113\n",
      "127\n",
      "131\n",
      "137\n",
      "139\n",
      "149\n",
      "151\n",
      "157\n",
      "163\n",
      "167\n",
      "173\n",
      "179\n",
      "181\n",
      "191\n",
      "193\n",
      "197\n",
      "199\n"
     ]
    }
   ],
   "source": [
    "# 题目：判断101-200之间有多少个質数，并输出所有素数。\n",
    "\n",
    "# 程序分析：判断素数的方法：用一个数分别去除2到sqrt(这个数)，如果能被整除，则表明此数不是素数，反之是素数。\n",
    "\n",
    "from math import sqrt\n",
    "\n",
    "\n",
    "for i in range(101,201):\n",
    "    for j in range(2,i-1):\n",
    "        if i%j == 0 :\n",
    "            break\n",
    "    else:\n",
    "        print(i)"
   ]
  },
  {
   "cell_type": "code",
   "execution_count": 16,
   "metadata": {},
   "outputs": [
    {
     "name": "stdout",
     "output_type": "stream",
     "text": [
      "[101, 103, 107, 109, 113, 127, 131, 137, 139, 149, 151, 157, 163, 167, 173, 179, 181, 191, 193, 197, 199]\n",
      "总数为：21\n"
     ]
    }
   ],
   "source": [
    "l = []\n",
    "for i in range(101,201):\n",
    "    for j in range(2,i-1):\n",
    "        if i%j ==0:\n",
    "            break\n",
    "    else:\n",
    "        l.append(i)\n",
    "\n",
    "print(l)\n",
    "\n",
    "print(\"总数为：%d\" % len(l))"
   ]
  },
  {
   "cell_type": "code",
   "execution_count": 3,
   "metadata": {},
   "outputs": [
    {
     "name": "stdout",
     "output_type": "stream",
     "text": [
      "153\n",
      "370\n",
      "371\n",
      "407\n"
     ]
    },
    {
     "data": {
      "text/plain": [
       "str"
      ]
     },
     "execution_count": 3,
     "metadata": {},
     "output_type": "execute_result"
    }
   ],
   "source": [
    "'''题目：打印出所有的\"水仙花数\"，所谓\"水仙花数\"是指一个三位数，其各位数字立方和等于该数本身。例如：153是一个\"水仙花数\"，因为153=1的三次方＋5的三次方＋3的三次方。\n",
    "\n",
    "程序分析：利用for循环控制100-999个数，每个数分解出个位，十位，百位。'''\n",
    "\n",
    "\n",
    "for i in range(100,1000):\n",
    "    x = str(i)\n",
    "    if int(x[0])**3 + int(x[1])**3 + int(x[2])**3 == i:\n",
    "        print(i)\n",
    "\n",
    "type(x[1])\n"
   ]
  },
  {
   "cell_type": "code",
   "execution_count": 22,
   "metadata": {},
   "outputs": [
    {
     "ename": "KeyboardInterrupt",
     "evalue": "",
     "output_type": "error",
     "traceback": [
      "\u001b[0;31m---------------------------------------------------------------------------\u001b[0m",
      "\u001b[0;31mKeyboardInterrupt\u001b[0m                         Traceback (most recent call last)",
      "Cell \u001b[0;32mIn[22], line 13\u001b[0m\n\u001b[1;32m     11\u001b[0m apple \u001b[39m=\u001b[39m []\n\u001b[1;32m     12\u001b[0m \u001b[39mwhile\u001b[39;00m  m \u001b[39m>\u001b[39m \u001b[39m1\u001b[39m:\n\u001b[0;32m---> 13\u001b[0m     \u001b[39mif\u001b[39;00m  x \u001b[39m%\u001b[39m m \u001b[39m==\u001b[39m \u001b[39m0\u001b[39m:\n\u001b[1;32m     14\u001b[0m         apple\u001b[39m.\u001b[39mappend(m)\n\u001b[1;32m     15\u001b[0m         m \u001b[39m=\u001b[39m x \u001b[39m/\u001b[39m\u001b[39m/\u001b[39m m\n",
      "\u001b[0;31mKeyboardInterrupt\u001b[0m: "
     ]
    }
   ],
   "source": [
    "'''\n",
    "题目：将一个正整数分解质因数。例如：输入90,打印出90=2*3*3*5。\n",
    "\n",
    "程序分析：对n进行分解质因数，应先找到一个最小的质数k，然后按下述步骤完成：\n",
    "(1)如果这个质数恰等于n，则说明分解质因数的过程已经结束，打印出即可。\n",
    "(2)如果n<>k，但n能被k整除，则应打印出k的值，并用n除以k的商,作为新的正整数你n,重复执行第一步。\n",
    "(3)如果n不能被k整除，则用k+1作为k的值,重复执行第一步。'''\n",
    "\n",
    "x = int(input('請輸入數字'))\n",
    "m = x -1\n",
    "apple = []\n",
    "while  m > 1:\n",
    "    if  x % m == 0:\n",
    "        apple.append(m)\n",
    "        m = x // m\n",
    "        break\n",
    "        \n",
    "        \n",
    "\n",
    "print(apple)\n",
    "\n",
    "\n"
   ]
  }
 ],
 "metadata": {
  "kernelspec": {
   "display_name": "Python 3",
   "language": "python",
   "name": "python3"
  },
  "language_info": {
   "codemirror_mode": {
    "name": "ipython",
    "version": 3
   },
   "file_extension": ".py",
   "mimetype": "text/x-python",
   "name": "python",
   "nbconvert_exporter": "python",
   "pygments_lexer": "ipython3",
   "version": "3.10.4"
  },
  "orig_nbformat": 4
 },
 "nbformat": 4,
 "nbformat_minor": 2
}
