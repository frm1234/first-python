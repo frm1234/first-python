{
 "cells": [
  {
   "cell_type": "code",
   "execution_count": 1,
   "metadata": {},
   "outputs": [
    {
     "name": "stdout",
     "output_type": "stream",
     "text": [
      "hello world\n"
     ]
    }
   ],
   "source": [
    "print('hello world')"
   ]
  },
  {
   "cell_type": "code",
   "execution_count": 49,
   "metadata": {},
   "outputs": [
    {
     "name": "stdout",
     "output_type": "stream",
     "text": [
      "70\n",
      "60\n",
      "50\n",
      "70\n"
     ]
    },
    {
     "data": {
      "text/plain": [
       "70"
      ]
     },
     "execution_count": 49,
     "metadata": {},
     "output_type": "execute_result"
    }
   ],
   "source": [
    "import copy\n",
    "a= 50\n",
    "b = 60\n",
    "c = copy.deepcopy(a)\n",
    "a = 10 + b\n",
    "d = a \n",
    "\n",
    "print(a)\n",
    "print(b)\n",
    "print(c)\n",
    "print(d)\n",
    "\n",
    "\n",
    "\n"
   ]
  },
  {
   "cell_type": "code",
   "execution_count": 1,
   "metadata": {},
   "outputs": [
    {
     "data": {
      "text/plain": [
       "5.878"
      ]
     },
     "execution_count": 1,
     "metadata": {},
     "output_type": "execute_result"
    }
   ],
   "source": [
    "import numpy as nu\n",
    "\n",
    "nu.round(5.8778,3)\n",
    "\n"
   ]
  },
  {
   "cell_type": "code",
   "execution_count": 3,
   "metadata": {},
   "outputs": [
    {
     "name": "stdout",
     "output_type": "stream",
     "text": [
      "6--b--c##"
     ]
    }
   ],
   "source": [
    "a = 6\n",
    "print(a,\"b\",'c',sep = '--',end = \"##\")"
   ]
  },
  {
   "cell_type": "code",
   "execution_count": 17,
   "metadata": {},
   "outputs": [
    {
     "name": "stdout",
     "output_type": "stream",
     "text": [
      "三角函數角度為90.0\n"
     ]
    }
   ],
   "source": [
    "import math\n",
    "import numpy as nu \n",
    "n = float(input('輸入斜邊'))\n",
    "m = float(input('輸入對邊'))\n",
    "radion = math.asin(m/n)  # sin(內角)=對邊/斜邊，這邊算sin值\n",
    "degree = nu.round(math.degrees(radion))\n",
    "print(f'三角函數角度為{degree}')\n"
   ]
  },
  {
   "cell_type": "code",
   "execution_count": 26,
   "metadata": {},
   "outputs": [
    {
     "name": "stdout",
     "output_type": "stream",
     "text": [
      "90.0\n"
     ]
    }
   ],
   "source": [
    "9 <= 6\n",
    "print(degree)"
   ]
  },
  {
   "cell_type": "code",
   "execution_count": 10,
   "metadata": {},
   "outputs": [
    {
     "name": "stdout",
     "output_type": "stream",
     "text": [
      "分數錯誤\n"
     ]
    }
   ],
   "source": [
    "\n",
    "\n",
    "score = int(input('請輸入分數(300上限)'))\n",
    "add   = str(input('請輸入加分(y,n)'))\n",
    "\n",
    "if score >=300:\n",
    "    print('分數錯誤')\n",
    "elif add == 'y':\n",
    "    score = score *1.05\n",
    "    if score >= 300:\n",
    "        score = 300\n",
    "        print(f'學生分數是:{score}')\n"
   ]
  },
  {
   "cell_type": "code",
   "execution_count": 4,
   "metadata": {},
   "outputs": [
    {
     "name": "stdout",
     "output_type": "stream",
     "text": [
      ">完美<\n"
     ]
    }
   ],
   "source": [
    "\n",
    "chinese = int(input('請輸入分數：'))\n",
    "\n",
    "if chinese <60:\n",
    "    print('不及格')\n",
    "elif chinese < 80:\n",
    "    print('尚可')\n",
    "elif chinese <100:\n",
    "    print('優')\n",
    "else :\n",
    "    print('>完美<')\n"
   ]
  },
  {
   "cell_type": "code",
   "execution_count": 15,
   "metadata": {},
   "outputs": [
    {
     "name": "stdout",
     "output_type": "stream",
     "text": [
      "格式錯誤\n"
     ]
    }
   ],
   "source": [
    "\n",
    "score = input('請輸入分數(0~100的整數):')\n",
    "\n",
    "if type(score) != int:\n",
    "    print('格式錯誤')\n",
    "else:\n",
    "    if score < 0:\n",
    "        print('超出範圍(過小)')\n",
    "    elif score < 59:\n",
    "        print('丁')\n",
    "    elif score < 69:\n",
    "        print('丙')\n",
    "    elif score < 79:\n",
    "        print('乙')\n",
    "    elif score < 89:\n",
    "        print('甲')\n",
    "    elif score <= 100:\n",
    "        print('優')\n",
    "    else :\n",
    "        print('超出範圍(過大)')"
   ]
  },
  {
   "cell_type": "code",
   "execution_count": 18,
   "metadata": {},
   "outputs": [
    {
     "name": "stdout",
     "output_type": "stream",
     "text": [
      "分數100\n"
     ]
    }
   ],
   "source": [
    "\n",
    "a = 100\n",
    "if not a == 100:\n",
    "    print('不分數為100')\n",
    "else:\n",
    "    print('分數100')"
   ]
  },
  {
   "cell_type": "code",
   "execution_count": 24,
   "metadata": {},
   "outputs": [
    {
     "name": "stdout",
     "output_type": "stream",
     "text": [
      "Flopsy\n",
      "Mopsy\n",
      "Cottontail\n",
      "Peter\n"
     ]
    }
   ],
   "source": [
    "rabbits = ['Flopsy', 'Mopsy', 'Cottontail', 'Peter']\n",
    "for i in rabbits:\n",
    "    print(i)"
   ]
  },
  {
   "cell_type": "code",
   "execution_count": 29,
   "metadata": {},
   "outputs": [
    {
     "name": "stdout",
     "output_type": "stream",
     "text": [
      "500\n"
     ]
    }
   ],
   "source": [
    "chinese = 199\n",
    "english = 100\n",
    "\n",
    "if chinese ==100 and english ==100:\n",
    "    print('1000')\n",
    "elif chinese == 100 or english == 100:\n",
    "    print(\"500\")\n",
    "else :\n",
    "    print('0')\n"
   ]
  },
  {
   "cell_type": "code",
   "execution_count": 3,
   "metadata": {},
   "outputs": [
    {
     "name": "stdout",
     "output_type": "stream",
     "text": [
      "D\n",
      "Asd\n",
      "Sd\n",
      "Gg\n",
      "Aae\n",
      "As\n",
      "Sde\n",
      "Dd\n",
      "程式結束\n"
     ]
    }
   ],
   "source": [
    "while(True):\n",
    "    stuff = input(\"請輸入小寫英文字[按q會離開]:\")\n",
    "    if stuff == 'q':\n",
    "        break\n",
    "    print(stuff.capitalize())\n",
    "print(\"程式結束\")"
   ]
  },
  {
   "cell_type": "code",
   "execution_count": 7,
   "metadata": {},
   "outputs": [
    {
     "name": "stdout",
     "output_type": "stream",
     "text": [
      "10,20,30,40,50,60,70,80,90,"
     ]
    }
   ],
   "source": [
    "for i in range(10,100,10):\n",
    "    print(i,end=\",\")"
   ]
  },
  {
   "cell_type": "code",
   "execution_count": 14,
   "metadata": {},
   "outputs": [
    {
     "name": "stdout",
     "output_type": "stream",
     "text": [
      "1\n",
      "3\n",
      "6\n",
      "10\n",
      "15\n",
      "21\n",
      "28\n",
      "36\n",
      "45\n",
      "55\n",
      "66\n",
      "78\n",
      "91\n",
      "105\n",
      "120\n",
      "136\n",
      "153\n",
      "171\n",
      "190\n",
      "210\n",
      "231\n",
      "253\n",
      "276\n",
      "300\n",
      "325\n",
      "351\n",
      "378\n",
      "406\n",
      "435\n",
      "465\n",
      "496\n",
      "528\n",
      "561\n",
      "595\n",
      "630\n",
      "666\n",
      "703\n",
      "741\n",
      "780\n",
      "820\n",
      "861\n",
      "903\n",
      "946\n",
      "990\n",
      "1035\n",
      "1081\n",
      "1128\n",
      "1176\n",
      "1225\n",
      "1275\n",
      "1326\n",
      "1378\n",
      "1431\n",
      "1485\n",
      "1540\n",
      "1596\n",
      "1653\n",
      "1711\n",
      "1770\n",
      "1830\n",
      "1891\n",
      "1953\n",
      "2016\n",
      "2080\n",
      "2145\n",
      "2211\n",
      "2278\n",
      "2346\n",
      "2415\n",
      "2485\n",
      "2556\n",
      "2628\n",
      "2701\n",
      "2775\n",
      "2850\n",
      "2926\n",
      "3003\n",
      "3081\n",
      "3160\n",
      "3240\n",
      "3321\n",
      "3403\n",
      "3486\n",
      "3570\n",
      "3655\n",
      "3741\n",
      "3828\n",
      "3916\n",
      "4005\n",
      "4095\n",
      "4186\n",
      "4278\n",
      "4371\n",
      "4465\n",
      "4560\n",
      "4656\n",
      "4753\n",
      "4851\n",
      "4950\n",
      "5050\n",
      "加總結果\"5050\"\n"
     ]
    }
   ],
   "source": [
    "result = 0 \n",
    "for i in range(1,101):\n",
    "    result += i \n",
    "    print(result)\n",
    "print (f'加總結果\"{result}\"')"
   ]
  },
  {
   "cell_type": "code",
   "execution_count": 4,
   "metadata": {},
   "outputs": [
    {
     "name": "stdout",
     "output_type": "stream",
     "text": [
      "0\n",
      "1\n",
      "2\n",
      "3\n",
      "4\n",
      "5\n",
      "6\n",
      "7\n",
      "8\n",
      "9\n"
     ]
    }
   ],
   "source": [
    "for i in range(10):\n",
    "    print(i)"
   ]
  },
  {
   "cell_type": "code",
   "execution_count": 13,
   "metadata": {},
   "outputs": [
    {
     "name": "stdout",
     "output_type": "stream",
     "text": [
      "\n",
      "i=0\n",
      "j=0j=1j=2j=3j=4j=5j=6j=7j=8j=9\n",
      "i=1\n",
      "j=0j=1j=2j=3j=4j=5j=6j=7j=8j=9\n",
      "i=2\n",
      "j=0j=1j=2j=3j=4j=5j=6j=7j=8j=9\n",
      "i=3\n",
      "j=0j=1j=2j=3j=4j=5j=6j=7j=8j=9\n",
      "i=4\n",
      "j=0j=1j=2j=3j=4j=5j=6j=7j=8j=9\n",
      "i=5\n",
      "j=0j=1j=2j=3j=4j=5j=6j=7j=8j=9\n",
      "i=6\n",
      "j=0j=1j=2j=3j=4j=5j=6j=7j=8j=9\n",
      "i=7\n",
      "j=0j=1j=2j=3j=4j=5j=6j=7j=8j=9\n",
      "i=8\n",
      "j=0j=1j=2j=3j=4j=5j=6j=7j=8j=9\n",
      "i=9\n",
      "j=0j=1j=2j=3j=4j=5j=6j=7j=8j=9"
     ]
    }
   ],
   "source": [
    "for i in range(10):\n",
    "    print(f'\\ni={i}')\n",
    "    for j in range(10):\n",
    "        print(f'j={j}',end = \"\")\n",
    "#    print('\\n===========')"
   ]
  },
  {
   "cell_type": "code",
   "execution_count": 23,
   "metadata": {},
   "outputs": [
    {
     "name": "stdout",
     "output_type": "stream",
     "text": [
      "1*1=1 2*1=2 3*1=3 4*1=4 5*1=5 6*1=6 7*1=7 8*1=8 9*1=9 \n",
      "\n",
      "1*2=2 2*2=4 3*2=6 4*2=8 5*2=10 6*2=12 7*2=14 8*2=16 9*2=18 \n",
      "\n",
      "1*3=3 2*3=6 3*3=9 4*3=12 5*3=15 6*3=18 7*3=21 8*3=24 9*3=27 \n",
      "\n",
      "1*4=4 2*4=8 3*4=12 4*4=16 5*4=20 6*4=24 7*4=28 8*4=32 9*4=36 \n",
      "\n",
      "1*5=5 2*5=10 3*5=15 4*5=20 5*5=25 6*5=30 7*5=35 8*5=40 9*5=45 \n",
      "\n",
      "1*6=6 2*6=12 3*6=18 4*6=24 5*6=30 6*6=36 7*6=42 8*6=48 9*6=54 \n",
      "\n",
      "1*7=7 2*7=14 3*7=21 4*7=28 5*7=35 6*7=42 7*7=49 8*7=56 9*7=63 \n",
      "\n",
      "1*8=8 2*8=16 3*8=24 4*8=32 5*8=40 6*8=48 7*8=56 8*8=64 9*8=72 \n",
      "\n",
      "1*9=9 2*9=18 3*9=27 4*9=36 5*9=45 6*9=54 7*9=63 8*9=72 9*9=81 \n",
      "\n"
     ]
    }
   ],
   "source": [
    "for i in range(1,10):\n",
    "#    print(f'\\ni={i}')\n",
    "    for j in range(1,10):\n",
    "        print(f'{j}*{i}={i*j}',end = \" \")\n",
    "    print('\\n')"
   ]
  },
  {
   "cell_type": "code",
   "execution_count": 34,
   "metadata": {},
   "outputs": [
    {
     "name": "stdout",
     "output_type": "stream",
     "text": [
      "總供需要花:4個月，已經存了36000\n",
      "[9000, 18000, 27000, 36000]\n"
     ]
    }
   ],
   "source": [
    "deposit = 0\n",
    "l = []\n",
    "while deposit < 30000:\n",
    "    vlaue = int(input('請輸入這個月的存款='))\n",
    "    deposit +=vlaue\n",
    "    l.append(deposit)\n",
    "print(f'總供需要花:{len(l)}個月，已經存了{deposit}')\n",
    "print (l)"
   ]
  },
  {
   "cell_type": "code",
   "execution_count": 8,
   "metadata": {},
   "outputs": [
    {
     "name": "stdout",
     "output_type": "stream",
     "text": [
      "所有數值加總為:0\n"
     ]
    }
   ],
   "source": [
    "sum = 0\n",
    "num = 0\n",
    "while True :\n",
    "    num += 1\n",
    "    value = int(input(f'請輸第{num}個數值='))\n",
    "    if value < 0:\n",
    "        break\n",
    "    elif value % 2 == 1:\n",
    "        continue\n",
    "    else:\n",
    "        sum += value\n",
    "print(f'所有數值加總為:{sum}')\n",
    "\n"
   ]
  },
  {
   "cell_type": "code",
   "execution_count": 41,
   "metadata": {},
   "outputs": [
    {
     "data": {
      "text/plain": [
       "3"
      ]
     },
     "execution_count": 41,
     "metadata": {},
     "output_type": "execute_result"
    }
   ],
   "source": [
    "import random\n",
    "random.randrange(1)\n",
    "random.randint(2,10)"
   ]
  },
  {
   "cell_type": "code",
   "execution_count": 39,
   "metadata": {},
   "outputs": [
    {
     "name": "stdout",
     "output_type": "stream",
     "text": [
      "可以\n",
      "-4\n"
     ]
    }
   ],
   "source": [
    "import random\n",
    "\n",
    "value = random.randint(-10,10)\n",
    "if value < 5 :\n",
    "    print('可以')\n",
    "    print(value)\n",
    "else:\n",
    "    print('不可')\n",
    "    print(value)"
   ]
  },
  {
   "cell_type": "code",
   "execution_count": 46,
   "metadata": {},
   "outputs": [
    {
     "name": "stdout",
     "output_type": "stream",
     "text": [
      "12.5\n"
     ]
    }
   ],
   "source": [
    "def run(a:int,b:int):\n",
    "    return a*b/2\n",
    "\n",
    "jojo = 5\n",
    "jojo1 = 5\n",
    "print(run(jojo,jojo1))\n",
    "\n"
   ]
  }
 ],
 "metadata": {
  "kernelspec": {
   "display_name": "Python 3",
   "language": "python",
   "name": "python3"
  },
  "language_info": {
   "codemirror_mode": {
    "name": "ipython",
    "version": 3
   },
   "file_extension": ".py",
   "mimetype": "text/x-python",
   "name": "python",
   "nbconvert_exporter": "python",
   "pygments_lexer": "ipython3",
   "version": "3.10.4"
  },
  "orig_nbformat": 4
 },
 "nbformat": 4,
 "nbformat_minor": 2
}
